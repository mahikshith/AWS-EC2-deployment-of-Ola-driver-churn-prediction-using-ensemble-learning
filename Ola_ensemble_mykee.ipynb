{
 "cells": [
  {
   "cell_type": "markdown",
   "metadata": {},
   "source": [
    "OLA : \n",
    "\n",
    "Problem_statement : \n",
    "\n",
    "Whether drivers leave the company dues to various factors like age, gender, joining date and salary etc and try to predict the churn."
   ]
  },
  {
   "cell_type": "code",
   "execution_count": 1,
   "metadata": {},
   "outputs": [],
   "source": [
    "# import libraries\n",
    "import pandas as pd\n",
    "import numpy as np\n",
    "import matplotlib.pyplot as plt\n",
    "import seaborn as sns\n",
    "import warnings\n",
    "warnings.filterwarnings('ignore')"
   ]
  },
  {
   "cell_type": "code",
   "execution_count": 2,
   "metadata": {},
   "outputs": [],
   "source": [
    "df = pd.read_csv('ola_driver_scaler.csv')"
   ]
  },
  {
   "cell_type": "code",
   "execution_count": 3,
   "metadata": {},
   "outputs": [
    {
     "data": {
      "text/html": [
       "<div>\n",
       "<style scoped>\n",
       "    .dataframe tbody tr th:only-of-type {\n",
       "        vertical-align: middle;\n",
       "    }\n",
       "\n",
       "    .dataframe tbody tr th {\n",
       "        vertical-align: top;\n",
       "    }\n",
       "\n",
       "    .dataframe thead th {\n",
       "        text-align: right;\n",
       "    }\n",
       "</style>\n",
       "<table border=\"1\" class=\"dataframe\">\n",
       "  <thead>\n",
       "    <tr style=\"text-align: right;\">\n",
       "      <th></th>\n",
       "      <th>Unnamed: 0</th>\n",
       "      <th>MMM-YY</th>\n",
       "      <th>Driver_ID</th>\n",
       "      <th>Age</th>\n",
       "      <th>Gender</th>\n",
       "      <th>City</th>\n",
       "      <th>Education_Level</th>\n",
       "      <th>Income</th>\n",
       "      <th>Dateofjoining</th>\n",
       "      <th>LastWorkingDate</th>\n",
       "      <th>Joining Designation</th>\n",
       "      <th>Grade</th>\n",
       "      <th>Total Business Value</th>\n",
       "      <th>Quarterly Rating</th>\n",
       "    </tr>\n",
       "  </thead>\n",
       "  <tbody>\n",
       "    <tr>\n",
       "      <th>0</th>\n",
       "      <td>0</td>\n",
       "      <td>01/01/19</td>\n",
       "      <td>1</td>\n",
       "      <td>28.0</td>\n",
       "      <td>0.0</td>\n",
       "      <td>C23</td>\n",
       "      <td>2</td>\n",
       "      <td>57387</td>\n",
       "      <td>24/12/18</td>\n",
       "      <td>NaN</td>\n",
       "      <td>1</td>\n",
       "      <td>1</td>\n",
       "      <td>2381060</td>\n",
       "      <td>2</td>\n",
       "    </tr>\n",
       "    <tr>\n",
       "      <th>1</th>\n",
       "      <td>1</td>\n",
       "      <td>02/01/19</td>\n",
       "      <td>1</td>\n",
       "      <td>28.0</td>\n",
       "      <td>0.0</td>\n",
       "      <td>C23</td>\n",
       "      <td>2</td>\n",
       "      <td>57387</td>\n",
       "      <td>24/12/18</td>\n",
       "      <td>NaN</td>\n",
       "      <td>1</td>\n",
       "      <td>1</td>\n",
       "      <td>-665480</td>\n",
       "      <td>2</td>\n",
       "    </tr>\n",
       "    <tr>\n",
       "      <th>2</th>\n",
       "      <td>2</td>\n",
       "      <td>03/01/19</td>\n",
       "      <td>1</td>\n",
       "      <td>28.0</td>\n",
       "      <td>0.0</td>\n",
       "      <td>C23</td>\n",
       "      <td>2</td>\n",
       "      <td>57387</td>\n",
       "      <td>24/12/18</td>\n",
       "      <td>03/11/19</td>\n",
       "      <td>1</td>\n",
       "      <td>1</td>\n",
       "      <td>0</td>\n",
       "      <td>2</td>\n",
       "    </tr>\n",
       "    <tr>\n",
       "      <th>3</th>\n",
       "      <td>3</td>\n",
       "      <td>11/01/20</td>\n",
       "      <td>2</td>\n",
       "      <td>31.0</td>\n",
       "      <td>0.0</td>\n",
       "      <td>C7</td>\n",
       "      <td>2</td>\n",
       "      <td>67016</td>\n",
       "      <td>11/06/20</td>\n",
       "      <td>NaN</td>\n",
       "      <td>2</td>\n",
       "      <td>2</td>\n",
       "      <td>0</td>\n",
       "      <td>1</td>\n",
       "    </tr>\n",
       "    <tr>\n",
       "      <th>4</th>\n",
       "      <td>4</td>\n",
       "      <td>12/01/20</td>\n",
       "      <td>2</td>\n",
       "      <td>31.0</td>\n",
       "      <td>0.0</td>\n",
       "      <td>C7</td>\n",
       "      <td>2</td>\n",
       "      <td>67016</td>\n",
       "      <td>11/06/20</td>\n",
       "      <td>NaN</td>\n",
       "      <td>2</td>\n",
       "      <td>2</td>\n",
       "      <td>0</td>\n",
       "      <td>1</td>\n",
       "    </tr>\n",
       "    <tr>\n",
       "      <th>5</th>\n",
       "      <td>5</td>\n",
       "      <td>12/01/19</td>\n",
       "      <td>4</td>\n",
       "      <td>43.0</td>\n",
       "      <td>0.0</td>\n",
       "      <td>C13</td>\n",
       "      <td>2</td>\n",
       "      <td>65603</td>\n",
       "      <td>12/07/19</td>\n",
       "      <td>NaN</td>\n",
       "      <td>2</td>\n",
       "      <td>2</td>\n",
       "      <td>0</td>\n",
       "      <td>1</td>\n",
       "    </tr>\n",
       "    <tr>\n",
       "      <th>6</th>\n",
       "      <td>6</td>\n",
       "      <td>01/01/20</td>\n",
       "      <td>4</td>\n",
       "      <td>43.0</td>\n",
       "      <td>0.0</td>\n",
       "      <td>C13</td>\n",
       "      <td>2</td>\n",
       "      <td>65603</td>\n",
       "      <td>12/07/19</td>\n",
       "      <td>NaN</td>\n",
       "      <td>2</td>\n",
       "      <td>2</td>\n",
       "      <td>0</td>\n",
       "      <td>1</td>\n",
       "    </tr>\n",
       "    <tr>\n",
       "      <th>7</th>\n",
       "      <td>7</td>\n",
       "      <td>02/01/20</td>\n",
       "      <td>4</td>\n",
       "      <td>43.0</td>\n",
       "      <td>0.0</td>\n",
       "      <td>C13</td>\n",
       "      <td>2</td>\n",
       "      <td>65603</td>\n",
       "      <td>12/07/19</td>\n",
       "      <td>NaN</td>\n",
       "      <td>2</td>\n",
       "      <td>2</td>\n",
       "      <td>0</td>\n",
       "      <td>1</td>\n",
       "    </tr>\n",
       "    <tr>\n",
       "      <th>8</th>\n",
       "      <td>8</td>\n",
       "      <td>03/01/20</td>\n",
       "      <td>4</td>\n",
       "      <td>43.0</td>\n",
       "      <td>0.0</td>\n",
       "      <td>C13</td>\n",
       "      <td>2</td>\n",
       "      <td>65603</td>\n",
       "      <td>12/07/19</td>\n",
       "      <td>NaN</td>\n",
       "      <td>2</td>\n",
       "      <td>2</td>\n",
       "      <td>350000</td>\n",
       "      <td>1</td>\n",
       "    </tr>\n",
       "    <tr>\n",
       "      <th>9</th>\n",
       "      <td>9</td>\n",
       "      <td>04/01/20</td>\n",
       "      <td>4</td>\n",
       "      <td>43.0</td>\n",
       "      <td>0.0</td>\n",
       "      <td>C13</td>\n",
       "      <td>2</td>\n",
       "      <td>65603</td>\n",
       "      <td>12/07/19</td>\n",
       "      <td>27/04/20</td>\n",
       "      <td>2</td>\n",
       "      <td>2</td>\n",
       "      <td>0</td>\n",
       "      <td>1</td>\n",
       "    </tr>\n",
       "    <tr>\n",
       "      <th>10</th>\n",
       "      <td>10</td>\n",
       "      <td>01/01/19</td>\n",
       "      <td>5</td>\n",
       "      <td>29.0</td>\n",
       "      <td>0.0</td>\n",
       "      <td>C9</td>\n",
       "      <td>0</td>\n",
       "      <td>46368</td>\n",
       "      <td>01/09/19</td>\n",
       "      <td>NaN</td>\n",
       "      <td>1</td>\n",
       "      <td>1</td>\n",
       "      <td>0</td>\n",
       "      <td>1</td>\n",
       "    </tr>\n",
       "    <tr>\n",
       "      <th>11</th>\n",
       "      <td>11</td>\n",
       "      <td>02/01/19</td>\n",
       "      <td>5</td>\n",
       "      <td>29.0</td>\n",
       "      <td>0.0</td>\n",
       "      <td>C9</td>\n",
       "      <td>0</td>\n",
       "      <td>46368</td>\n",
       "      <td>01/09/19</td>\n",
       "      <td>NaN</td>\n",
       "      <td>1</td>\n",
       "      <td>1</td>\n",
       "      <td>120360</td>\n",
       "      <td>1</td>\n",
       "    </tr>\n",
       "  </tbody>\n",
       "</table>\n",
       "</div>"
      ],
      "text/plain": [
       "    Unnamed: 0    MMM-YY  Driver_ID   Age  Gender City  Education_Level  \\\n",
       "0            0  01/01/19          1  28.0     0.0  C23                2   \n",
       "1            1  02/01/19          1  28.0     0.0  C23                2   \n",
       "2            2  03/01/19          1  28.0     0.0  C23                2   \n",
       "3            3  11/01/20          2  31.0     0.0   C7                2   \n",
       "4            4  12/01/20          2  31.0     0.0   C7                2   \n",
       "5            5  12/01/19          4  43.0     0.0  C13                2   \n",
       "6            6  01/01/20          4  43.0     0.0  C13                2   \n",
       "7            7  02/01/20          4  43.0     0.0  C13                2   \n",
       "8            8  03/01/20          4  43.0     0.0  C13                2   \n",
       "9            9  04/01/20          4  43.0     0.0  C13                2   \n",
       "10          10  01/01/19          5  29.0     0.0   C9                0   \n",
       "11          11  02/01/19          5  29.0     0.0   C9                0   \n",
       "\n",
       "    Income Dateofjoining LastWorkingDate  Joining Designation  Grade  \\\n",
       "0    57387      24/12/18             NaN                    1      1   \n",
       "1    57387      24/12/18             NaN                    1      1   \n",
       "2    57387      24/12/18        03/11/19                    1      1   \n",
       "3    67016      11/06/20             NaN                    2      2   \n",
       "4    67016      11/06/20             NaN                    2      2   \n",
       "5    65603      12/07/19             NaN                    2      2   \n",
       "6    65603      12/07/19             NaN                    2      2   \n",
       "7    65603      12/07/19             NaN                    2      2   \n",
       "8    65603      12/07/19             NaN                    2      2   \n",
       "9    65603      12/07/19        27/04/20                    2      2   \n",
       "10   46368      01/09/19             NaN                    1      1   \n",
       "11   46368      01/09/19             NaN                    1      1   \n",
       "\n",
       "    Total Business Value  Quarterly Rating  \n",
       "0                2381060                 2  \n",
       "1                -665480                 2  \n",
       "2                      0                 2  \n",
       "3                      0                 1  \n",
       "4                      0                 1  \n",
       "5                      0                 1  \n",
       "6                      0                 1  \n",
       "7                      0                 1  \n",
       "8                 350000                 1  \n",
       "9                      0                 1  \n",
       "10                     0                 1  \n",
       "11                120360                 1  "
      ]
     },
     "execution_count": 3,
     "metadata": {},
     "output_type": "execute_result"
    }
   ],
   "source": [
    "df.head(12)"
   ]
  },
  {
   "cell_type": "markdown",
   "metadata": {},
   "source": [
    "Need to somehow bring the data each driver level"
   ]
  },
  {
   "cell_type": "code",
   "execution_count": 4,
   "metadata": {},
   "outputs": [],
   "source": [
    "df.drop(columns='Unnamed: 0',inplace=True)"
   ]
  },
  {
   "cell_type": "code",
   "execution_count": 5,
   "metadata": {},
   "outputs": [
    {
     "data": {
      "text/plain": [
       "(19104, 13)"
      ]
     },
     "execution_count": 5,
     "metadata": {},
     "output_type": "execute_result"
    }
   ],
   "source": [
    "df.shape"
   ]
  },
  {
   "cell_type": "code",
   "execution_count": 6,
   "metadata": {},
   "outputs": [
    {
     "data": {
      "text/plain": [
       "MMM-YY                   0.000000\n",
       "Driver_ID                0.000000\n",
       "Age                      0.319305\n",
       "Gender                   0.272194\n",
       "City                     0.000000\n",
       "Education_Level          0.000000\n",
       "Income                   0.000000\n",
       "Dateofjoining            0.000000\n",
       "LastWorkingDate         91.541039\n",
       "Joining Designation      0.000000\n",
       "Grade                    0.000000\n",
       "Total Business Value     0.000000\n",
       "Quarterly Rating         0.000000\n",
       "dtype: float64"
      ]
     },
     "execution_count": 6,
     "metadata": {},
     "output_type": "execute_result"
    }
   ],
   "source": [
    "df.isna().sum() / len(df)  * 100"
   ]
  },
  {
   "cell_type": "markdown",
   "metadata": {},
   "source": [
    "Assumption : if the last working date is NaN that could possibly mean that the drivers stopped reporting to OLA or quit or changed the company."
   ]
  },
  {
   "cell_type": "code",
   "execution_count": 7,
   "metadata": {},
   "outputs": [
    {
     "data": {
      "text/plain": [
       "0"
      ]
     },
     "execution_count": 7,
     "metadata": {},
     "output_type": "execute_result"
    }
   ],
   "source": [
    "df.duplicated().sum()"
   ]
  },
  {
   "cell_type": "code",
   "execution_count": 8,
   "metadata": {},
   "outputs": [
    {
     "name": "stdout",
     "output_type": "stream",
     "text": [
      "<class 'pandas.core.frame.DataFrame'>\n",
      "RangeIndex: 19104 entries, 0 to 19103\n",
      "Data columns (total 13 columns):\n",
      " #   Column                Non-Null Count  Dtype  \n",
      "---  ------                --------------  -----  \n",
      " 0   MMM-YY                19104 non-null  object \n",
      " 1   Driver_ID             19104 non-null  int64  \n",
      " 2   Age                   19043 non-null  float64\n",
      " 3   Gender                19052 non-null  float64\n",
      " 4   City                  19104 non-null  object \n",
      " 5   Education_Level       19104 non-null  int64  \n",
      " 6   Income                19104 non-null  int64  \n",
      " 7   Dateofjoining         19104 non-null  object \n",
      " 8   LastWorkingDate       1616 non-null   object \n",
      " 9   Joining Designation   19104 non-null  int64  \n",
      " 10  Grade                 19104 non-null  int64  \n",
      " 11  Total Business Value  19104 non-null  int64  \n",
      " 12  Quarterly Rating      19104 non-null  int64  \n",
      "dtypes: float64(2), int64(7), object(4)\n",
      "memory usage: 1.9+ MB\n"
     ]
    }
   ],
   "source": [
    "df.info()"
   ]
  },
  {
   "cell_type": "code",
   "execution_count": 9,
   "metadata": {},
   "outputs": [],
   "source": [
    "for each in  [\"MMM-YY\",\"Dateofjoining\",\"LastWorkingDate\"] : \n",
    "    df[each] = pd.to_datetime(df[each])"
   ]
  },
  {
   "cell_type": "markdown",
   "metadata": {},
   "source": [
    "Missing value imputation : "
   ]
  },
  {
   "cell_type": "markdown",
   "metadata": {},
   "source": [
    "Gender : Gender of the driver – Male : 0, Female: 1"
   ]
  },
  {
   "cell_type": "code",
   "execution_count": 10,
   "metadata": {},
   "outputs": [
    {
     "data": {
      "text/plain": [
       "0.0    11074\n",
       "1.0     7978\n",
       "NaN       52\n",
       "Name: Gender, dtype: int64"
      ]
     },
     "execution_count": 10,
     "metadata": {},
     "output_type": "execute_result"
    }
   ],
   "source": [
    "# age , gender , last working date \n",
    "\n",
    "df[\"Gender\"].value_counts(dropna=False)"
   ]
  },
  {
   "cell_type": "markdown",
   "metadata": {},
   "source": [
    "Education_Level : Education level – 0 for 10+ ,1 for 12+ ,2 for graduate"
   ]
  },
  {
   "cell_type": "code",
   "execution_count": 11,
   "metadata": {},
   "outputs": [
    {
     "data": {
      "text/plain": [
       "1    6864\n",
       "2    6327\n",
       "0    5913\n",
       "Name: Education_Level, dtype: int64"
      ]
     },
     "execution_count": 11,
     "metadata": {},
     "output_type": "execute_result"
    }
   ],
   "source": [
    "df[\"Education_Level\"].value_counts()"
   ]
  },
  {
   "cell_type": "markdown",
   "metadata": {},
   "source": [
    "Let's try Knn imputation -  for this we need to consider the numerical features "
   ]
  },
  {
   "cell_type": "code",
   "execution_count": 12,
   "metadata": {},
   "outputs": [],
   "source": [
    "num_df = df.select_dtypes(np.number)"
   ]
  },
  {
   "cell_type": "code",
   "execution_count": 13,
   "metadata": {},
   "outputs": [
    {
     "data": {
      "text/plain": [
       "Index(['Driver_ID', 'Age', 'Gender', 'Education_Level', 'Income',\n",
       "       'Joining Designation', 'Grade', 'Total Business Value',\n",
       "       'Quarterly Rating'],\n",
       "      dtype='object')"
      ]
     },
     "execution_count": 13,
     "metadata": {},
     "output_type": "execute_result"
    }
   ],
   "source": [
    "num_df.columns"
   ]
  },
  {
   "cell_type": "code",
   "execution_count": 14,
   "metadata": {},
   "outputs": [],
   "source": [
    "num_df.drop(columns='Driver_ID',inplace=True)"
   ]
  },
  {
   "cell_type": "code",
   "execution_count": 15,
   "metadata": {},
   "outputs": [],
   "source": [
    "# knn imputation \n",
    "\n",
    "from sklearn.impute import KNNImputer\n",
    "\n",
    "imputer = KNNImputer(n_neighbors=5, weights='uniform', metric='nan_euclidean',)\n",
    "\n",
    "df[num_df.columns] = imputer.fit_transform(df[num_df.columns])"
   ]
  },
  {
   "cell_type": "markdown",
   "metadata": {},
   "source": [
    "nan_euclidean trivia :\n",
    "\n",
    "The nan_euclidean metric is a special metric provided by scikit-learn's PairwiseDistances class specifically for handling missing values (NaNs) in the data. It is similar to the Euclidean distance metric, but it treats NaNs as a separate category and assigns a large distance to any pair of samples that contains at least one NaN.\n",
    "\n",
    "This is useful when you have missing values in your data and you want to impute them using the KNNImputer. By using the nan_euclidean metric, the KNNImputer will ignore the NaNs when finding the nearest neighbors, ensuring that the imputed values are based on the non-missing data."
   ]
  },
  {
   "cell_type": "code",
   "execution_count": 16,
   "metadata": {},
   "outputs": [
    {
     "data": {
      "text/plain": [
       "MMM-YY                   0.000000\n",
       "Driver_ID                0.000000\n",
       "Age                      0.000000\n",
       "Gender                   0.000000\n",
       "City                     0.000000\n",
       "Education_Level          0.000000\n",
       "Income                   0.000000\n",
       "Dateofjoining            0.000000\n",
       "LastWorkingDate         91.541039\n",
       "Joining Designation      0.000000\n",
       "Grade                    0.000000\n",
       "Total Business Value     0.000000\n",
       "Quarterly Rating         0.000000\n",
       "dtype: float64"
      ]
     },
     "execution_count": 16,
     "metadata": {},
     "output_type": "execute_result"
    }
   ],
   "source": [
    "df.isna().sum() / len(df)  * 100"
   ]
  },
  {
   "cell_type": "markdown",
   "metadata": {},
   "source": [
    "let's bring down the data to the each driver level :"
   ]
  },
  {
   "cell_type": "code",
   "execution_count": 17,
   "metadata": {},
   "outputs": [
    {
     "data": {
      "text/html": [
       "<div>\n",
       "<style scoped>\n",
       "    .dataframe tbody tr th:only-of-type {\n",
       "        vertical-align: middle;\n",
       "    }\n",
       "\n",
       "    .dataframe tbody tr th {\n",
       "        vertical-align: top;\n",
       "    }\n",
       "\n",
       "    .dataframe thead th {\n",
       "        text-align: right;\n",
       "    }\n",
       "</style>\n",
       "<table border=\"1\" class=\"dataframe\">\n",
       "  <thead>\n",
       "    <tr style=\"text-align: right;\">\n",
       "      <th></th>\n",
       "      <th>MMM-YY</th>\n",
       "      <th>Driver_ID</th>\n",
       "      <th>Age</th>\n",
       "      <th>Gender</th>\n",
       "      <th>City</th>\n",
       "      <th>Education_Level</th>\n",
       "      <th>Income</th>\n",
       "      <th>Dateofjoining</th>\n",
       "      <th>LastWorkingDate</th>\n",
       "      <th>Joining Designation</th>\n",
       "      <th>Grade</th>\n",
       "      <th>Total Business Value</th>\n",
       "      <th>Quarterly Rating</th>\n",
       "    </tr>\n",
       "  </thead>\n",
       "  <tbody>\n",
       "    <tr>\n",
       "      <th>3342</th>\n",
       "      <td>2019-01-01</td>\n",
       "      <td>500</td>\n",
       "      <td>39.0</td>\n",
       "      <td>0.0</td>\n",
       "      <td>C12</td>\n",
       "      <td>1.0</td>\n",
       "      <td>103119.0</td>\n",
       "      <td>2018-05-11</td>\n",
       "      <td>NaT</td>\n",
       "      <td>4.0</td>\n",
       "      <td>4.0</td>\n",
       "      <td>612140.0</td>\n",
       "      <td>1.0</td>\n",
       "    </tr>\n",
       "    <tr>\n",
       "      <th>3343</th>\n",
       "      <td>2019-02-01</td>\n",
       "      <td>500</td>\n",
       "      <td>39.0</td>\n",
       "      <td>0.0</td>\n",
       "      <td>C12</td>\n",
       "      <td>1.0</td>\n",
       "      <td>103119.0</td>\n",
       "      <td>2018-05-11</td>\n",
       "      <td>NaT</td>\n",
       "      <td>4.0</td>\n",
       "      <td>4.0</td>\n",
       "      <td>508740.0</td>\n",
       "      <td>1.0</td>\n",
       "    </tr>\n",
       "    <tr>\n",
       "      <th>3344</th>\n",
       "      <td>2019-03-01</td>\n",
       "      <td>500</td>\n",
       "      <td>39.0</td>\n",
       "      <td>0.0</td>\n",
       "      <td>C12</td>\n",
       "      <td>1.0</td>\n",
       "      <td>103119.0</td>\n",
       "      <td>2018-05-11</td>\n",
       "      <td>NaT</td>\n",
       "      <td>4.0</td>\n",
       "      <td>4.0</td>\n",
       "      <td>1683170.0</td>\n",
       "      <td>1.0</td>\n",
       "    </tr>\n",
       "    <tr>\n",
       "      <th>3345</th>\n",
       "      <td>2019-04-01</td>\n",
       "      <td>500</td>\n",
       "      <td>39.0</td>\n",
       "      <td>0.0</td>\n",
       "      <td>C12</td>\n",
       "      <td>1.0</td>\n",
       "      <td>103119.0</td>\n",
       "      <td>2018-05-11</td>\n",
       "      <td>NaT</td>\n",
       "      <td>4.0</td>\n",
       "      <td>4.0</td>\n",
       "      <td>402470.0</td>\n",
       "      <td>1.0</td>\n",
       "    </tr>\n",
       "    <tr>\n",
       "      <th>3346</th>\n",
       "      <td>2019-05-01</td>\n",
       "      <td>500</td>\n",
       "      <td>39.0</td>\n",
       "      <td>0.0</td>\n",
       "      <td>C12</td>\n",
       "      <td>1.0</td>\n",
       "      <td>103119.0</td>\n",
       "      <td>2018-05-11</td>\n",
       "      <td>NaT</td>\n",
       "      <td>4.0</td>\n",
       "      <td>4.0</td>\n",
       "      <td>0.0</td>\n",
       "      <td>1.0</td>\n",
       "    </tr>\n",
       "    <tr>\n",
       "      <th>3347</th>\n",
       "      <td>2019-06-01</td>\n",
       "      <td>500</td>\n",
       "      <td>39.0</td>\n",
       "      <td>0.0</td>\n",
       "      <td>C12</td>\n",
       "      <td>1.0</td>\n",
       "      <td>103119.0</td>\n",
       "      <td>2018-05-11</td>\n",
       "      <td>NaT</td>\n",
       "      <td>4.0</td>\n",
       "      <td>4.0</td>\n",
       "      <td>0.0</td>\n",
       "      <td>1.0</td>\n",
       "    </tr>\n",
       "    <tr>\n",
       "      <th>3348</th>\n",
       "      <td>2019-07-01</td>\n",
       "      <td>500</td>\n",
       "      <td>40.0</td>\n",
       "      <td>0.0</td>\n",
       "      <td>C12</td>\n",
       "      <td>1.0</td>\n",
       "      <td>103119.0</td>\n",
       "      <td>2018-05-11</td>\n",
       "      <td>NaT</td>\n",
       "      <td>4.0</td>\n",
       "      <td>4.0</td>\n",
       "      <td>300000.0</td>\n",
       "      <td>3.0</td>\n",
       "    </tr>\n",
       "    <tr>\n",
       "      <th>3349</th>\n",
       "      <td>2019-08-01</td>\n",
       "      <td>500</td>\n",
       "      <td>40.0</td>\n",
       "      <td>0.0</td>\n",
       "      <td>C12</td>\n",
       "      <td>1.0</td>\n",
       "      <td>103119.0</td>\n",
       "      <td>2018-05-11</td>\n",
       "      <td>NaT</td>\n",
       "      <td>4.0</td>\n",
       "      <td>4.0</td>\n",
       "      <td>2654880.0</td>\n",
       "      <td>3.0</td>\n",
       "    </tr>\n",
       "    <tr>\n",
       "      <th>3350</th>\n",
       "      <td>2019-09-01</td>\n",
       "      <td>500</td>\n",
       "      <td>40.0</td>\n",
       "      <td>0.0</td>\n",
       "      <td>C12</td>\n",
       "      <td>1.0</td>\n",
       "      <td>103119.0</td>\n",
       "      <td>2018-05-11</td>\n",
       "      <td>NaT</td>\n",
       "      <td>4.0</td>\n",
       "      <td>4.0</td>\n",
       "      <td>1435040.0</td>\n",
       "      <td>3.0</td>\n",
       "    </tr>\n",
       "    <tr>\n",
       "      <th>3351</th>\n",
       "      <td>2019-10-01</td>\n",
       "      <td>500</td>\n",
       "      <td>40.0</td>\n",
       "      <td>0.0</td>\n",
       "      <td>C12</td>\n",
       "      <td>1.0</td>\n",
       "      <td>103119.0</td>\n",
       "      <td>2018-05-11</td>\n",
       "      <td>2019-10-10</td>\n",
       "      <td>4.0</td>\n",
       "      <td>4.0</td>\n",
       "      <td>0.0</td>\n",
       "      <td>1.0</td>\n",
       "    </tr>\n",
       "  </tbody>\n",
       "</table>\n",
       "</div>"
      ],
      "text/plain": [
       "         MMM-YY  Driver_ID   Age  Gender City  Education_Level    Income  \\\n",
       "3342 2019-01-01        500  39.0     0.0  C12              1.0  103119.0   \n",
       "3343 2019-02-01        500  39.0     0.0  C12              1.0  103119.0   \n",
       "3344 2019-03-01        500  39.0     0.0  C12              1.0  103119.0   \n",
       "3345 2019-04-01        500  39.0     0.0  C12              1.0  103119.0   \n",
       "3346 2019-05-01        500  39.0     0.0  C12              1.0  103119.0   \n",
       "3347 2019-06-01        500  39.0     0.0  C12              1.0  103119.0   \n",
       "3348 2019-07-01        500  40.0     0.0  C12              1.0  103119.0   \n",
       "3349 2019-08-01        500  40.0     0.0  C12              1.0  103119.0   \n",
       "3350 2019-09-01        500  40.0     0.0  C12              1.0  103119.0   \n",
       "3351 2019-10-01        500  40.0     0.0  C12              1.0  103119.0   \n",
       "\n",
       "     Dateofjoining LastWorkingDate  Joining Designation  Grade  \\\n",
       "3342    2018-05-11             NaT                  4.0    4.0   \n",
       "3343    2018-05-11             NaT                  4.0    4.0   \n",
       "3344    2018-05-11             NaT                  4.0    4.0   \n",
       "3345    2018-05-11             NaT                  4.0    4.0   \n",
       "3346    2018-05-11             NaT                  4.0    4.0   \n",
       "3347    2018-05-11             NaT                  4.0    4.0   \n",
       "3348    2018-05-11             NaT                  4.0    4.0   \n",
       "3349    2018-05-11             NaT                  4.0    4.0   \n",
       "3350    2018-05-11             NaT                  4.0    4.0   \n",
       "3351    2018-05-11      2019-10-10                  4.0    4.0   \n",
       "\n",
       "      Total Business Value  Quarterly Rating  \n",
       "3342              612140.0               1.0  \n",
       "3343              508740.0               1.0  \n",
       "3344             1683170.0               1.0  \n",
       "3345              402470.0               1.0  \n",
       "3346                   0.0               1.0  \n",
       "3347                   0.0               1.0  \n",
       "3348              300000.0               3.0  \n",
       "3349             2654880.0               3.0  \n",
       "3350             1435040.0               3.0  \n",
       "3351                   0.0               1.0  "
      ]
     },
     "execution_count": 17,
     "metadata": {},
     "output_type": "execute_result"
    }
   ],
   "source": [
    "df[df[\"Driver_ID\"] == 500]"
   ]
  },
  {
   "cell_type": "markdown",
   "metadata": {},
   "source": [
    "The data is at montly level and we need to bring it to the driver level and if we observe each driver reports at OLA driver hub at the start of the month , first let's do a groupby at the driver level, then monthly level"
   ]
  },
  {
   "cell_type": "code",
   "execution_count": 18,
   "metadata": {},
   "outputs": [],
   "source": [
    "# age : max , gender : first , city : first  , education : last , income :  last , dateofjoining : last , \n",
    "# lastworkingdate : last , joining designation : last , grade : last , total business value : sum , quarterly rating : last\n",
    "\n",
    "agg_dict = {'Age':'max', 'Gender':'first','City':'first',\n",
    "             'Education_Level':'last','Income':'last',\n",
    "             'Dateofjoining':'last','LastWorkingDate':'last',\n",
    "             'Joining Designation':'last','Grade':'last',\n",
    "             'Total Business Value':'sum','Quarterly Rating':'last'}\n",
    "\n",
    "df1 = df.groupby(['Driver_ID','MMM-YY']).aggregate(agg_dict)\n"
   ]
  },
  {
   "cell_type": "markdown",
   "metadata": {},
   "source": [
    "Now the data is at driver level for each month "
   ]
  },
  {
   "cell_type": "code",
   "execution_count": 19,
   "metadata": {},
   "outputs": [
    {
     "data": {
      "text/html": [
       "<div>\n",
       "<style scoped>\n",
       "    .dataframe tbody tr th:only-of-type {\n",
       "        vertical-align: middle;\n",
       "    }\n",
       "\n",
       "    .dataframe tbody tr th {\n",
       "        vertical-align: top;\n",
       "    }\n",
       "\n",
       "    .dataframe thead th {\n",
       "        text-align: right;\n",
       "    }\n",
       "</style>\n",
       "<table border=\"1\" class=\"dataframe\">\n",
       "  <thead>\n",
       "    <tr style=\"text-align: right;\">\n",
       "      <th></th>\n",
       "      <th></th>\n",
       "      <th>Age</th>\n",
       "      <th>Gender</th>\n",
       "      <th>City</th>\n",
       "      <th>Education_Level</th>\n",
       "      <th>Income</th>\n",
       "      <th>Dateofjoining</th>\n",
       "      <th>LastWorkingDate</th>\n",
       "      <th>Joining Designation</th>\n",
       "      <th>Grade</th>\n",
       "      <th>Total Business Value</th>\n",
       "      <th>Quarterly Rating</th>\n",
       "    </tr>\n",
       "    <tr>\n",
       "      <th>Driver_ID</th>\n",
       "      <th>MMM-YY</th>\n",
       "      <th></th>\n",
       "      <th></th>\n",
       "      <th></th>\n",
       "      <th></th>\n",
       "      <th></th>\n",
       "      <th></th>\n",
       "      <th></th>\n",
       "      <th></th>\n",
       "      <th></th>\n",
       "      <th></th>\n",
       "      <th></th>\n",
       "    </tr>\n",
       "  </thead>\n",
       "  <tbody>\n",
       "    <tr>\n",
       "      <th rowspan=\"3\" valign=\"top\">1</th>\n",
       "      <th>2019-01-01</th>\n",
       "      <td>28.0</td>\n",
       "      <td>0.0</td>\n",
       "      <td>C23</td>\n",
       "      <td>2.0</td>\n",
       "      <td>57387.0</td>\n",
       "      <td>2018-12-24</td>\n",
       "      <td>NaT</td>\n",
       "      <td>1.0</td>\n",
       "      <td>1.0</td>\n",
       "      <td>2381060.0</td>\n",
       "      <td>2.0</td>\n",
       "    </tr>\n",
       "    <tr>\n",
       "      <th>2019-02-01</th>\n",
       "      <td>28.0</td>\n",
       "      <td>0.0</td>\n",
       "      <td>C23</td>\n",
       "      <td>2.0</td>\n",
       "      <td>57387.0</td>\n",
       "      <td>2018-12-24</td>\n",
       "      <td>NaT</td>\n",
       "      <td>1.0</td>\n",
       "      <td>1.0</td>\n",
       "      <td>-665480.0</td>\n",
       "      <td>2.0</td>\n",
       "    </tr>\n",
       "    <tr>\n",
       "      <th>2019-03-01</th>\n",
       "      <td>28.0</td>\n",
       "      <td>0.0</td>\n",
       "      <td>C23</td>\n",
       "      <td>2.0</td>\n",
       "      <td>57387.0</td>\n",
       "      <td>2018-12-24</td>\n",
       "      <td>2019-03-11</td>\n",
       "      <td>1.0</td>\n",
       "      <td>1.0</td>\n",
       "      <td>0.0</td>\n",
       "      <td>2.0</td>\n",
       "    </tr>\n",
       "    <tr>\n",
       "      <th rowspan=\"2\" valign=\"top\">2</th>\n",
       "      <th>2020-11-01</th>\n",
       "      <td>31.0</td>\n",
       "      <td>0.0</td>\n",
       "      <td>C7</td>\n",
       "      <td>2.0</td>\n",
       "      <td>67016.0</td>\n",
       "      <td>2020-11-06</td>\n",
       "      <td>NaT</td>\n",
       "      <td>2.0</td>\n",
       "      <td>2.0</td>\n",
       "      <td>0.0</td>\n",
       "      <td>1.0</td>\n",
       "    </tr>\n",
       "    <tr>\n",
       "      <th>2020-12-01</th>\n",
       "      <td>31.0</td>\n",
       "      <td>0.0</td>\n",
       "      <td>C7</td>\n",
       "      <td>2.0</td>\n",
       "      <td>67016.0</td>\n",
       "      <td>2020-11-06</td>\n",
       "      <td>NaT</td>\n",
       "      <td>2.0</td>\n",
       "      <td>2.0</td>\n",
       "      <td>0.0</td>\n",
       "      <td>1.0</td>\n",
       "    </tr>\n",
       "    <tr>\n",
       "      <th>...</th>\n",
       "      <th>...</th>\n",
       "      <td>...</td>\n",
       "      <td>...</td>\n",
       "      <td>...</td>\n",
       "      <td>...</td>\n",
       "      <td>...</td>\n",
       "      <td>...</td>\n",
       "      <td>...</td>\n",
       "      <td>...</td>\n",
       "      <td>...</td>\n",
       "      <td>...</td>\n",
       "      <td>...</td>\n",
       "    </tr>\n",
       "    <tr>\n",
       "      <th rowspan=\"5\" valign=\"top\">2788</th>\n",
       "      <th>2020-08-01</th>\n",
       "      <td>30.0</td>\n",
       "      <td>0.0</td>\n",
       "      <td>C27</td>\n",
       "      <td>2.0</td>\n",
       "      <td>70254.0</td>\n",
       "      <td>2020-06-08</td>\n",
       "      <td>NaT</td>\n",
       "      <td>2.0</td>\n",
       "      <td>2.0</td>\n",
       "      <td>740280.0</td>\n",
       "      <td>3.0</td>\n",
       "    </tr>\n",
       "    <tr>\n",
       "      <th>2020-09-01</th>\n",
       "      <td>30.0</td>\n",
       "      <td>0.0</td>\n",
       "      <td>C27</td>\n",
       "      <td>2.0</td>\n",
       "      <td>70254.0</td>\n",
       "      <td>2020-06-08</td>\n",
       "      <td>NaT</td>\n",
       "      <td>2.0</td>\n",
       "      <td>2.0</td>\n",
       "      <td>448370.0</td>\n",
       "      <td>3.0</td>\n",
       "    </tr>\n",
       "    <tr>\n",
       "      <th>2020-10-01</th>\n",
       "      <td>30.0</td>\n",
       "      <td>0.0</td>\n",
       "      <td>C27</td>\n",
       "      <td>2.0</td>\n",
       "      <td>70254.0</td>\n",
       "      <td>2020-06-08</td>\n",
       "      <td>NaT</td>\n",
       "      <td>2.0</td>\n",
       "      <td>2.0</td>\n",
       "      <td>0.0</td>\n",
       "      <td>2.0</td>\n",
       "    </tr>\n",
       "    <tr>\n",
       "      <th>2020-11-01</th>\n",
       "      <td>30.0</td>\n",
       "      <td>0.0</td>\n",
       "      <td>C27</td>\n",
       "      <td>2.0</td>\n",
       "      <td>70254.0</td>\n",
       "      <td>2020-06-08</td>\n",
       "      <td>NaT</td>\n",
       "      <td>2.0</td>\n",
       "      <td>2.0</td>\n",
       "      <td>200420.0</td>\n",
       "      <td>2.0</td>\n",
       "    </tr>\n",
       "    <tr>\n",
       "      <th>2020-12-01</th>\n",
       "      <td>30.0</td>\n",
       "      <td>0.0</td>\n",
       "      <td>C27</td>\n",
       "      <td>2.0</td>\n",
       "      <td>70254.0</td>\n",
       "      <td>2020-06-08</td>\n",
       "      <td>NaT</td>\n",
       "      <td>2.0</td>\n",
       "      <td>2.0</td>\n",
       "      <td>411480.0</td>\n",
       "      <td>2.0</td>\n",
       "    </tr>\n",
       "  </tbody>\n",
       "</table>\n",
       "<p>19104 rows × 11 columns</p>\n",
       "</div>"
      ],
      "text/plain": [
       "                       Age  Gender City  Education_Level   Income  \\\n",
       "Driver_ID MMM-YY                                                    \n",
       "1         2019-01-01  28.0     0.0  C23              2.0  57387.0   \n",
       "          2019-02-01  28.0     0.0  C23              2.0  57387.0   \n",
       "          2019-03-01  28.0     0.0  C23              2.0  57387.0   \n",
       "2         2020-11-01  31.0     0.0   C7              2.0  67016.0   \n",
       "          2020-12-01  31.0     0.0   C7              2.0  67016.0   \n",
       "...                    ...     ...  ...              ...      ...   \n",
       "2788      2020-08-01  30.0     0.0  C27              2.0  70254.0   \n",
       "          2020-09-01  30.0     0.0  C27              2.0  70254.0   \n",
       "          2020-10-01  30.0     0.0  C27              2.0  70254.0   \n",
       "          2020-11-01  30.0     0.0  C27              2.0  70254.0   \n",
       "          2020-12-01  30.0     0.0  C27              2.0  70254.0   \n",
       "\n",
       "                     Dateofjoining LastWorkingDate  Joining Designation  \\\n",
       "Driver_ID MMM-YY                                                          \n",
       "1         2019-01-01    2018-12-24             NaT                  1.0   \n",
       "          2019-02-01    2018-12-24             NaT                  1.0   \n",
       "          2019-03-01    2018-12-24      2019-03-11                  1.0   \n",
       "2         2020-11-01    2020-11-06             NaT                  2.0   \n",
       "          2020-12-01    2020-11-06             NaT                  2.0   \n",
       "...                            ...             ...                  ...   \n",
       "2788      2020-08-01    2020-06-08             NaT                  2.0   \n",
       "          2020-09-01    2020-06-08             NaT                  2.0   \n",
       "          2020-10-01    2020-06-08             NaT                  2.0   \n",
       "          2020-11-01    2020-06-08             NaT                  2.0   \n",
       "          2020-12-01    2020-06-08             NaT                  2.0   \n",
       "\n",
       "                      Grade  Total Business Value  Quarterly Rating  \n",
       "Driver_ID MMM-YY                                                     \n",
       "1         2019-01-01    1.0             2381060.0               2.0  \n",
       "          2019-02-01    1.0             -665480.0               2.0  \n",
       "          2019-03-01    1.0                   0.0               2.0  \n",
       "2         2020-11-01    2.0                   0.0               1.0  \n",
       "          2020-12-01    2.0                   0.0               1.0  \n",
       "...                     ...                   ...               ...  \n",
       "2788      2020-08-01    2.0              740280.0               3.0  \n",
       "          2020-09-01    2.0              448370.0               3.0  \n",
       "          2020-10-01    2.0                   0.0               2.0  \n",
       "          2020-11-01    2.0              200420.0               2.0  \n",
       "          2020-12-01    2.0              411480.0               2.0  \n",
       "\n",
       "[19104 rows x 11 columns]"
      ]
     },
     "execution_count": 19,
     "metadata": {},
     "output_type": "execute_result"
    }
   ],
   "source": [
    "df1"
   ]
  },
  {
   "cell_type": "code",
   "execution_count": 20,
   "metadata": {},
   "outputs": [],
   "source": [
    "df1.reset_index(inplace=True)"
   ]
  },
  {
   "cell_type": "code",
   "execution_count": 21,
   "metadata": {},
   "outputs": [],
   "source": [
    "df1.sort_values(by=['Driver_ID','MMM-YY'],inplace=True)"
   ]
  },
  {
   "cell_type": "code",
   "execution_count": 22,
   "metadata": {},
   "outputs": [
    {
     "data": {
      "text/html": [
       "<div>\n",
       "<style scoped>\n",
       "    .dataframe tbody tr th:only-of-type {\n",
       "        vertical-align: middle;\n",
       "    }\n",
       "\n",
       "    .dataframe tbody tr th {\n",
       "        vertical-align: top;\n",
       "    }\n",
       "\n",
       "    .dataframe thead th {\n",
       "        text-align: right;\n",
       "    }\n",
       "</style>\n",
       "<table border=\"1\" class=\"dataframe\">\n",
       "  <thead>\n",
       "    <tr style=\"text-align: right;\">\n",
       "      <th></th>\n",
       "      <th>Driver_ID</th>\n",
       "      <th>MMM-YY</th>\n",
       "      <th>Age</th>\n",
       "      <th>Gender</th>\n",
       "      <th>City</th>\n",
       "      <th>Education_Level</th>\n",
       "      <th>Income</th>\n",
       "      <th>Dateofjoining</th>\n",
       "      <th>LastWorkingDate</th>\n",
       "      <th>Joining Designation</th>\n",
       "      <th>Grade</th>\n",
       "      <th>Total Business Value</th>\n",
       "      <th>Quarterly Rating</th>\n",
       "    </tr>\n",
       "  </thead>\n",
       "  <tbody>\n",
       "    <tr>\n",
       "      <th>0</th>\n",
       "      <td>1</td>\n",
       "      <td>2019-01-01</td>\n",
       "      <td>28.0</td>\n",
       "      <td>0.0</td>\n",
       "      <td>C23</td>\n",
       "      <td>2.0</td>\n",
       "      <td>57387.0</td>\n",
       "      <td>2018-12-24</td>\n",
       "      <td>NaT</td>\n",
       "      <td>1.0</td>\n",
       "      <td>1.0</td>\n",
       "      <td>2381060.0</td>\n",
       "      <td>2.0</td>\n",
       "    </tr>\n",
       "    <tr>\n",
       "      <th>1</th>\n",
       "      <td>1</td>\n",
       "      <td>2019-02-01</td>\n",
       "      <td>28.0</td>\n",
       "      <td>0.0</td>\n",
       "      <td>C23</td>\n",
       "      <td>2.0</td>\n",
       "      <td>57387.0</td>\n",
       "      <td>2018-12-24</td>\n",
       "      <td>NaT</td>\n",
       "      <td>1.0</td>\n",
       "      <td>1.0</td>\n",
       "      <td>-665480.0</td>\n",
       "      <td>2.0</td>\n",
       "    </tr>\n",
       "    <tr>\n",
       "      <th>2</th>\n",
       "      <td>1</td>\n",
       "      <td>2019-03-01</td>\n",
       "      <td>28.0</td>\n",
       "      <td>0.0</td>\n",
       "      <td>C23</td>\n",
       "      <td>2.0</td>\n",
       "      <td>57387.0</td>\n",
       "      <td>2018-12-24</td>\n",
       "      <td>2019-03-11</td>\n",
       "      <td>1.0</td>\n",
       "      <td>1.0</td>\n",
       "      <td>0.0</td>\n",
       "      <td>2.0</td>\n",
       "    </tr>\n",
       "    <tr>\n",
       "      <th>3</th>\n",
       "      <td>2</td>\n",
       "      <td>2020-11-01</td>\n",
       "      <td>31.0</td>\n",
       "      <td>0.0</td>\n",
       "      <td>C7</td>\n",
       "      <td>2.0</td>\n",
       "      <td>67016.0</td>\n",
       "      <td>2020-11-06</td>\n",
       "      <td>NaT</td>\n",
       "      <td>2.0</td>\n",
       "      <td>2.0</td>\n",
       "      <td>0.0</td>\n",
       "      <td>1.0</td>\n",
       "    </tr>\n",
       "    <tr>\n",
       "      <th>4</th>\n",
       "      <td>2</td>\n",
       "      <td>2020-12-01</td>\n",
       "      <td>31.0</td>\n",
       "      <td>0.0</td>\n",
       "      <td>C7</td>\n",
       "      <td>2.0</td>\n",
       "      <td>67016.0</td>\n",
       "      <td>2020-11-06</td>\n",
       "      <td>NaT</td>\n",
       "      <td>2.0</td>\n",
       "      <td>2.0</td>\n",
       "      <td>0.0</td>\n",
       "      <td>1.0</td>\n",
       "    </tr>\n",
       "    <tr>\n",
       "      <th>...</th>\n",
       "      <td>...</td>\n",
       "      <td>...</td>\n",
       "      <td>...</td>\n",
       "      <td>...</td>\n",
       "      <td>...</td>\n",
       "      <td>...</td>\n",
       "      <td>...</td>\n",
       "      <td>...</td>\n",
       "      <td>...</td>\n",
       "      <td>...</td>\n",
       "      <td>...</td>\n",
       "      <td>...</td>\n",
       "      <td>...</td>\n",
       "    </tr>\n",
       "    <tr>\n",
       "      <th>19099</th>\n",
       "      <td>2788</td>\n",
       "      <td>2020-08-01</td>\n",
       "      <td>30.0</td>\n",
       "      <td>0.0</td>\n",
       "      <td>C27</td>\n",
       "      <td>2.0</td>\n",
       "      <td>70254.0</td>\n",
       "      <td>2020-06-08</td>\n",
       "      <td>NaT</td>\n",
       "      <td>2.0</td>\n",
       "      <td>2.0</td>\n",
       "      <td>740280.0</td>\n",
       "      <td>3.0</td>\n",
       "    </tr>\n",
       "    <tr>\n",
       "      <th>19100</th>\n",
       "      <td>2788</td>\n",
       "      <td>2020-09-01</td>\n",
       "      <td>30.0</td>\n",
       "      <td>0.0</td>\n",
       "      <td>C27</td>\n",
       "      <td>2.0</td>\n",
       "      <td>70254.0</td>\n",
       "      <td>2020-06-08</td>\n",
       "      <td>NaT</td>\n",
       "      <td>2.0</td>\n",
       "      <td>2.0</td>\n",
       "      <td>448370.0</td>\n",
       "      <td>3.0</td>\n",
       "    </tr>\n",
       "    <tr>\n",
       "      <th>19101</th>\n",
       "      <td>2788</td>\n",
       "      <td>2020-10-01</td>\n",
       "      <td>30.0</td>\n",
       "      <td>0.0</td>\n",
       "      <td>C27</td>\n",
       "      <td>2.0</td>\n",
       "      <td>70254.0</td>\n",
       "      <td>2020-06-08</td>\n",
       "      <td>NaT</td>\n",
       "      <td>2.0</td>\n",
       "      <td>2.0</td>\n",
       "      <td>0.0</td>\n",
       "      <td>2.0</td>\n",
       "    </tr>\n",
       "    <tr>\n",
       "      <th>19102</th>\n",
       "      <td>2788</td>\n",
       "      <td>2020-11-01</td>\n",
       "      <td>30.0</td>\n",
       "      <td>0.0</td>\n",
       "      <td>C27</td>\n",
       "      <td>2.0</td>\n",
       "      <td>70254.0</td>\n",
       "      <td>2020-06-08</td>\n",
       "      <td>NaT</td>\n",
       "      <td>2.0</td>\n",
       "      <td>2.0</td>\n",
       "      <td>200420.0</td>\n",
       "      <td>2.0</td>\n",
       "    </tr>\n",
       "    <tr>\n",
       "      <th>19103</th>\n",
       "      <td>2788</td>\n",
       "      <td>2020-12-01</td>\n",
       "      <td>30.0</td>\n",
       "      <td>0.0</td>\n",
       "      <td>C27</td>\n",
       "      <td>2.0</td>\n",
       "      <td>70254.0</td>\n",
       "      <td>2020-06-08</td>\n",
       "      <td>NaT</td>\n",
       "      <td>2.0</td>\n",
       "      <td>2.0</td>\n",
       "      <td>411480.0</td>\n",
       "      <td>2.0</td>\n",
       "    </tr>\n",
       "  </tbody>\n",
       "</table>\n",
       "<p>19104 rows × 13 columns</p>\n",
       "</div>"
      ],
      "text/plain": [
       "       Driver_ID     MMM-YY   Age  Gender City  Education_Level   Income  \\\n",
       "0              1 2019-01-01  28.0     0.0  C23              2.0  57387.0   \n",
       "1              1 2019-02-01  28.0     0.0  C23              2.0  57387.0   \n",
       "2              1 2019-03-01  28.0     0.0  C23              2.0  57387.0   \n",
       "3              2 2020-11-01  31.0     0.0   C7              2.0  67016.0   \n",
       "4              2 2020-12-01  31.0     0.0   C7              2.0  67016.0   \n",
       "...          ...        ...   ...     ...  ...              ...      ...   \n",
       "19099       2788 2020-08-01  30.0     0.0  C27              2.0  70254.0   \n",
       "19100       2788 2020-09-01  30.0     0.0  C27              2.0  70254.0   \n",
       "19101       2788 2020-10-01  30.0     0.0  C27              2.0  70254.0   \n",
       "19102       2788 2020-11-01  30.0     0.0  C27              2.0  70254.0   \n",
       "19103       2788 2020-12-01  30.0     0.0  C27              2.0  70254.0   \n",
       "\n",
       "      Dateofjoining LastWorkingDate  Joining Designation  Grade  \\\n",
       "0        2018-12-24             NaT                  1.0    1.0   \n",
       "1        2018-12-24             NaT                  1.0    1.0   \n",
       "2        2018-12-24      2019-03-11                  1.0    1.0   \n",
       "3        2020-11-06             NaT                  2.0    2.0   \n",
       "4        2020-11-06             NaT                  2.0    2.0   \n",
       "...             ...             ...                  ...    ...   \n",
       "19099    2020-06-08             NaT                  2.0    2.0   \n",
       "19100    2020-06-08             NaT                  2.0    2.0   \n",
       "19101    2020-06-08             NaT                  2.0    2.0   \n",
       "19102    2020-06-08             NaT                  2.0    2.0   \n",
       "19103    2020-06-08             NaT                  2.0    2.0   \n",
       "\n",
       "       Total Business Value  Quarterly Rating  \n",
       "0                 2381060.0               2.0  \n",
       "1                 -665480.0               2.0  \n",
       "2                       0.0               2.0  \n",
       "3                       0.0               1.0  \n",
       "4                       0.0               1.0  \n",
       "...                     ...               ...  \n",
       "19099              740280.0               3.0  \n",
       "19100              448370.0               3.0  \n",
       "19101                   0.0               2.0  \n",
       "19102              200420.0               2.0  \n",
       "19103              411480.0               2.0  \n",
       "\n",
       "[19104 rows x 13 columns]"
      ]
     },
     "execution_count": 22,
     "metadata": {},
     "output_type": "execute_result"
    }
   ],
   "source": [
    "df1"
   ]
  },
  {
   "cell_type": "code",
   "execution_count": 23,
   "metadata": {},
   "outputs": [],
   "source": [
    "# bringing the data to the driver level \n",
    "#  age : max , gender : last, city : last  , education : last , income :  last ,   \n",
    "# lastworkingdate : last , joining designation : last , grade : last , total business value : sum , quarterly rating : last\n",
    "\n",
    "add_driver_dict = {'Age':'max', 'Gender':'last','City':'last',\n",
    "             'Education_Level':'last','Income':'last',\n",
    "             'Dateofjoining':'last','LastWorkingDate':'last',\n",
    "             'Joining Designation':'last','Grade':'last',\n",
    "             'Total Business Value':'sum','Quarterly Rating':'last'}\n",
    "\n",
    "df_driver = df1.groupby('Driver_ID').aggregate(add_driver_dict)"
   ]
  },
  {
   "cell_type": "code",
   "execution_count": 24,
   "metadata": {},
   "outputs": [
    {
     "data": {
      "text/plain": [
       "2381"
      ]
     },
     "execution_count": 24,
     "metadata": {},
     "output_type": "execute_result"
    }
   ],
   "source": [
    "df1[\"Driver_ID\"].nunique()"
   ]
  },
  {
   "cell_type": "code",
   "execution_count": 25,
   "metadata": {},
   "outputs": [
    {
     "data": {
      "text/html": [
       "<div>\n",
       "<style scoped>\n",
       "    .dataframe tbody tr th:only-of-type {\n",
       "        vertical-align: middle;\n",
       "    }\n",
       "\n",
       "    .dataframe tbody tr th {\n",
       "        vertical-align: top;\n",
       "    }\n",
       "\n",
       "    .dataframe thead th {\n",
       "        text-align: right;\n",
       "    }\n",
       "</style>\n",
       "<table border=\"1\" class=\"dataframe\">\n",
       "  <thead>\n",
       "    <tr style=\"text-align: right;\">\n",
       "      <th></th>\n",
       "      <th>Age</th>\n",
       "      <th>Gender</th>\n",
       "      <th>City</th>\n",
       "      <th>Education_Level</th>\n",
       "      <th>Income</th>\n",
       "      <th>Dateofjoining</th>\n",
       "      <th>LastWorkingDate</th>\n",
       "      <th>Joining Designation</th>\n",
       "      <th>Grade</th>\n",
       "      <th>Total Business Value</th>\n",
       "      <th>Quarterly Rating</th>\n",
       "    </tr>\n",
       "    <tr>\n",
       "      <th>Driver_ID</th>\n",
       "      <th></th>\n",
       "      <th></th>\n",
       "      <th></th>\n",
       "      <th></th>\n",
       "      <th></th>\n",
       "      <th></th>\n",
       "      <th></th>\n",
       "      <th></th>\n",
       "      <th></th>\n",
       "      <th></th>\n",
       "      <th></th>\n",
       "    </tr>\n",
       "  </thead>\n",
       "  <tbody>\n",
       "    <tr>\n",
       "      <th>1</th>\n",
       "      <td>28.0</td>\n",
       "      <td>0.0</td>\n",
       "      <td>C23</td>\n",
       "      <td>2.0</td>\n",
       "      <td>57387.0</td>\n",
       "      <td>2018-12-24</td>\n",
       "      <td>2019-03-11</td>\n",
       "      <td>1.0</td>\n",
       "      <td>1.0</td>\n",
       "      <td>1715580.0</td>\n",
       "      <td>2.0</td>\n",
       "    </tr>\n",
       "    <tr>\n",
       "      <th>2</th>\n",
       "      <td>31.0</td>\n",
       "      <td>0.0</td>\n",
       "      <td>C7</td>\n",
       "      <td>2.0</td>\n",
       "      <td>67016.0</td>\n",
       "      <td>2020-11-06</td>\n",
       "      <td>NaT</td>\n",
       "      <td>2.0</td>\n",
       "      <td>2.0</td>\n",
       "      <td>0.0</td>\n",
       "      <td>1.0</td>\n",
       "    </tr>\n",
       "    <tr>\n",
       "      <th>4</th>\n",
       "      <td>43.0</td>\n",
       "      <td>0.0</td>\n",
       "      <td>C13</td>\n",
       "      <td>2.0</td>\n",
       "      <td>65603.0</td>\n",
       "      <td>2019-12-07</td>\n",
       "      <td>2020-04-27</td>\n",
       "      <td>2.0</td>\n",
       "      <td>2.0</td>\n",
       "      <td>350000.0</td>\n",
       "      <td>1.0</td>\n",
       "    </tr>\n",
       "    <tr>\n",
       "      <th>5</th>\n",
       "      <td>29.0</td>\n",
       "      <td>0.0</td>\n",
       "      <td>C9</td>\n",
       "      <td>0.0</td>\n",
       "      <td>46368.0</td>\n",
       "      <td>2019-01-09</td>\n",
       "      <td>2019-03-07</td>\n",
       "      <td>1.0</td>\n",
       "      <td>1.0</td>\n",
       "      <td>120360.0</td>\n",
       "      <td>1.0</td>\n",
       "    </tr>\n",
       "    <tr>\n",
       "      <th>6</th>\n",
       "      <td>31.0</td>\n",
       "      <td>1.0</td>\n",
       "      <td>C11</td>\n",
       "      <td>1.0</td>\n",
       "      <td>78728.0</td>\n",
       "      <td>2020-07-31</td>\n",
       "      <td>NaT</td>\n",
       "      <td>3.0</td>\n",
       "      <td>3.0</td>\n",
       "      <td>1265000.0</td>\n",
       "      <td>2.0</td>\n",
       "    </tr>\n",
       "    <tr>\n",
       "      <th>...</th>\n",
       "      <td>...</td>\n",
       "      <td>...</td>\n",
       "      <td>...</td>\n",
       "      <td>...</td>\n",
       "      <td>...</td>\n",
       "      <td>...</td>\n",
       "      <td>...</td>\n",
       "      <td>...</td>\n",
       "      <td>...</td>\n",
       "      <td>...</td>\n",
       "      <td>...</td>\n",
       "    </tr>\n",
       "    <tr>\n",
       "      <th>2784</th>\n",
       "      <td>34.0</td>\n",
       "      <td>0.0</td>\n",
       "      <td>C24</td>\n",
       "      <td>0.0</td>\n",
       "      <td>82815.0</td>\n",
       "      <td>2015-10-15</td>\n",
       "      <td>NaT</td>\n",
       "      <td>2.0</td>\n",
       "      <td>3.0</td>\n",
       "      <td>21748820.0</td>\n",
       "      <td>4.0</td>\n",
       "    </tr>\n",
       "    <tr>\n",
       "      <th>2785</th>\n",
       "      <td>34.0</td>\n",
       "      <td>1.0</td>\n",
       "      <td>C9</td>\n",
       "      <td>0.0</td>\n",
       "      <td>12105.0</td>\n",
       "      <td>2020-08-28</td>\n",
       "      <td>2020-10-28</td>\n",
       "      <td>1.0</td>\n",
       "      <td>1.0</td>\n",
       "      <td>0.0</td>\n",
       "      <td>1.0</td>\n",
       "    </tr>\n",
       "    <tr>\n",
       "      <th>2786</th>\n",
       "      <td>45.0</td>\n",
       "      <td>0.0</td>\n",
       "      <td>C19</td>\n",
       "      <td>0.0</td>\n",
       "      <td>35370.0</td>\n",
       "      <td>2018-07-31</td>\n",
       "      <td>2019-09-22</td>\n",
       "      <td>2.0</td>\n",
       "      <td>2.0</td>\n",
       "      <td>2815090.0</td>\n",
       "      <td>1.0</td>\n",
       "    </tr>\n",
       "    <tr>\n",
       "      <th>2787</th>\n",
       "      <td>28.0</td>\n",
       "      <td>1.0</td>\n",
       "      <td>C20</td>\n",
       "      <td>2.0</td>\n",
       "      <td>69498.0</td>\n",
       "      <td>2018-07-21</td>\n",
       "      <td>2019-06-20</td>\n",
       "      <td>1.0</td>\n",
       "      <td>1.0</td>\n",
       "      <td>977830.0</td>\n",
       "      <td>1.0</td>\n",
       "    </tr>\n",
       "    <tr>\n",
       "      <th>2788</th>\n",
       "      <td>30.0</td>\n",
       "      <td>0.0</td>\n",
       "      <td>C27</td>\n",
       "      <td>2.0</td>\n",
       "      <td>70254.0</td>\n",
       "      <td>2020-06-08</td>\n",
       "      <td>NaT</td>\n",
       "      <td>2.0</td>\n",
       "      <td>2.0</td>\n",
       "      <td>2298240.0</td>\n",
       "      <td>2.0</td>\n",
       "    </tr>\n",
       "  </tbody>\n",
       "</table>\n",
       "<p>2381 rows × 11 columns</p>\n",
       "</div>"
      ],
      "text/plain": [
       "            Age  Gender City  Education_Level   Income Dateofjoining  \\\n",
       "Driver_ID                                                              \n",
       "1          28.0     0.0  C23              2.0  57387.0    2018-12-24   \n",
       "2          31.0     0.0   C7              2.0  67016.0    2020-11-06   \n",
       "4          43.0     0.0  C13              2.0  65603.0    2019-12-07   \n",
       "5          29.0     0.0   C9              0.0  46368.0    2019-01-09   \n",
       "6          31.0     1.0  C11              1.0  78728.0    2020-07-31   \n",
       "...         ...     ...  ...              ...      ...           ...   \n",
       "2784       34.0     0.0  C24              0.0  82815.0    2015-10-15   \n",
       "2785       34.0     1.0   C9              0.0  12105.0    2020-08-28   \n",
       "2786       45.0     0.0  C19              0.0  35370.0    2018-07-31   \n",
       "2787       28.0     1.0  C20              2.0  69498.0    2018-07-21   \n",
       "2788       30.0     0.0  C27              2.0  70254.0    2020-06-08   \n",
       "\n",
       "          LastWorkingDate  Joining Designation  Grade  Total Business Value  \\\n",
       "Driver_ID                                                                     \n",
       "1              2019-03-11                  1.0    1.0             1715580.0   \n",
       "2                     NaT                  2.0    2.0                   0.0   \n",
       "4              2020-04-27                  2.0    2.0              350000.0   \n",
       "5              2019-03-07                  1.0    1.0              120360.0   \n",
       "6                     NaT                  3.0    3.0             1265000.0   \n",
       "...                   ...                  ...    ...                   ...   \n",
       "2784                  NaT                  2.0    3.0            21748820.0   \n",
       "2785           2020-10-28                  1.0    1.0                   0.0   \n",
       "2786           2019-09-22                  2.0    2.0             2815090.0   \n",
       "2787           2019-06-20                  1.0    1.0              977830.0   \n",
       "2788                  NaT                  2.0    2.0             2298240.0   \n",
       "\n",
       "           Quarterly Rating  \n",
       "Driver_ID                    \n",
       "1                       2.0  \n",
       "2                       1.0  \n",
       "4                       1.0  \n",
       "5                       1.0  \n",
       "6                       2.0  \n",
       "...                     ...  \n",
       "2784                    4.0  \n",
       "2785                    1.0  \n",
       "2786                    1.0  \n",
       "2787                    1.0  \n",
       "2788                    2.0  \n",
       "\n",
       "[2381 rows x 11 columns]"
      ]
     },
     "execution_count": 25,
     "metadata": {},
     "output_type": "execute_result"
    }
   ],
   "source": [
    "df_driver"
   ]
  },
  {
   "cell_type": "code",
   "execution_count": 26,
   "metadata": {},
   "outputs": [],
   "source": [
    "df_driver.reset_index(inplace=True)"
   ]
  },
  {
   "cell_type": "code",
   "execution_count": 27,
   "metadata": {},
   "outputs": [
    {
     "data": {
      "text/html": [
       "<div>\n",
       "<style scoped>\n",
       "    .dataframe tbody tr th:only-of-type {\n",
       "        vertical-align: middle;\n",
       "    }\n",
       "\n",
       "    .dataframe tbody tr th {\n",
       "        vertical-align: top;\n",
       "    }\n",
       "\n",
       "    .dataframe thead th {\n",
       "        text-align: right;\n",
       "    }\n",
       "</style>\n",
       "<table border=\"1\" class=\"dataframe\">\n",
       "  <thead>\n",
       "    <tr style=\"text-align: right;\">\n",
       "      <th></th>\n",
       "      <th>Driver_ID</th>\n",
       "      <th>Age</th>\n",
       "      <th>Gender</th>\n",
       "      <th>City</th>\n",
       "      <th>Education_Level</th>\n",
       "      <th>Income</th>\n",
       "      <th>Dateofjoining</th>\n",
       "      <th>LastWorkingDate</th>\n",
       "      <th>Joining Designation</th>\n",
       "      <th>Grade</th>\n",
       "      <th>Total Business Value</th>\n",
       "      <th>Quarterly Rating</th>\n",
       "    </tr>\n",
       "  </thead>\n",
       "  <tbody>\n",
       "    <tr>\n",
       "      <th>0</th>\n",
       "      <td>1</td>\n",
       "      <td>28.0</td>\n",
       "      <td>0.0</td>\n",
       "      <td>C23</td>\n",
       "      <td>2.0</td>\n",
       "      <td>57387.0</td>\n",
       "      <td>2018-12-24</td>\n",
       "      <td>2019-03-11</td>\n",
       "      <td>1.0</td>\n",
       "      <td>1.0</td>\n",
       "      <td>1715580.0</td>\n",
       "      <td>2.0</td>\n",
       "    </tr>\n",
       "    <tr>\n",
       "      <th>1</th>\n",
       "      <td>2</td>\n",
       "      <td>31.0</td>\n",
       "      <td>0.0</td>\n",
       "      <td>C7</td>\n",
       "      <td>2.0</td>\n",
       "      <td>67016.0</td>\n",
       "      <td>2020-11-06</td>\n",
       "      <td>NaT</td>\n",
       "      <td>2.0</td>\n",
       "      <td>2.0</td>\n",
       "      <td>0.0</td>\n",
       "      <td>1.0</td>\n",
       "    </tr>\n",
       "    <tr>\n",
       "      <th>2</th>\n",
       "      <td>4</td>\n",
       "      <td>43.0</td>\n",
       "      <td>0.0</td>\n",
       "      <td>C13</td>\n",
       "      <td>2.0</td>\n",
       "      <td>65603.0</td>\n",
       "      <td>2019-12-07</td>\n",
       "      <td>2020-04-27</td>\n",
       "      <td>2.0</td>\n",
       "      <td>2.0</td>\n",
       "      <td>350000.0</td>\n",
       "      <td>1.0</td>\n",
       "    </tr>\n",
       "    <tr>\n",
       "      <th>3</th>\n",
       "      <td>5</td>\n",
       "      <td>29.0</td>\n",
       "      <td>0.0</td>\n",
       "      <td>C9</td>\n",
       "      <td>0.0</td>\n",
       "      <td>46368.0</td>\n",
       "      <td>2019-01-09</td>\n",
       "      <td>2019-03-07</td>\n",
       "      <td>1.0</td>\n",
       "      <td>1.0</td>\n",
       "      <td>120360.0</td>\n",
       "      <td>1.0</td>\n",
       "    </tr>\n",
       "  </tbody>\n",
       "</table>\n",
       "</div>"
      ],
      "text/plain": [
       "   Driver_ID   Age  Gender City  Education_Level   Income Dateofjoining  \\\n",
       "0          1  28.0     0.0  C23              2.0  57387.0    2018-12-24   \n",
       "1          2  31.0     0.0   C7              2.0  67016.0    2020-11-06   \n",
       "2          4  43.0     0.0  C13              2.0  65603.0    2019-12-07   \n",
       "3          5  29.0     0.0   C9              0.0  46368.0    2019-01-09   \n",
       "\n",
       "  LastWorkingDate  Joining Designation  Grade  Total Business Value  \\\n",
       "0      2019-03-11                  1.0    1.0             1715580.0   \n",
       "1             NaT                  2.0    2.0                   0.0   \n",
       "2      2020-04-27                  2.0    2.0              350000.0   \n",
       "3      2019-03-07                  1.0    1.0              120360.0   \n",
       "\n",
       "   Quarterly Rating  \n",
       "0               2.0  \n",
       "1               1.0  \n",
       "2               1.0  \n",
       "3               1.0  "
      ]
     },
     "execution_count": 27,
     "metadata": {},
     "output_type": "execute_result"
    }
   ],
   "source": [
    "df_driver.head(4)"
   ]
  },
  {
   "cell_type": "markdown",
   "metadata": {},
   "source": [
    "Feature Engineering :"
   ]
  },
  {
   "cell_type": "markdown",
   "metadata": {},
   "source": [
    "Creating a column which tells whether the quarterly rating has increased for that driver - for those whose quarterly rating has increased we assign the value 1"
   ]
  },
  {
   "cell_type": "code",
   "execution_count": 28,
   "metadata": {},
   "outputs": [],
   "source": [
    "# difference between quareterly rating min and max \n",
    "\n",
    "quarterly_rating_change = df1.groupby('Driver_ID').aggregate({'Quarterly Rating':['first','last']}).reset_index()\n"
   ]
  },
  {
   "cell_type": "code",
   "execution_count": 29,
   "metadata": {},
   "outputs": [],
   "source": [
    "quarterly_rating_change.columns = ['Driver_ID','Quarterly Rating_first','Quarterly Rating_last']\n",
    "quarterly_rating_change[\"quarterly_rating_inc\"] = quarterly_rating_change[\"Quarterly Rating_last\"] > quarterly_rating_change[\"Quarterly Rating_first\"]\n",
    "quarterly_rating_change[\"quarterly_rating_inc\"] = np.where(quarterly_rating_change[\"quarterly_rating_inc\"]==True,1,0)"
   ]
  },
  {
   "cell_type": "code",
   "execution_count": 30,
   "metadata": {},
   "outputs": [
    {
     "data": {
      "text/html": [
       "<div>\n",
       "<style scoped>\n",
       "    .dataframe tbody tr th:only-of-type {\n",
       "        vertical-align: middle;\n",
       "    }\n",
       "\n",
       "    .dataframe tbody tr th {\n",
       "        vertical-align: top;\n",
       "    }\n",
       "\n",
       "    .dataframe thead th {\n",
       "        text-align: right;\n",
       "    }\n",
       "</style>\n",
       "<table border=\"1\" class=\"dataframe\">\n",
       "  <thead>\n",
       "    <tr style=\"text-align: right;\">\n",
       "      <th></th>\n",
       "      <th>Driver_ID</th>\n",
       "      <th>Quarterly Rating_first</th>\n",
       "      <th>Quarterly Rating_last</th>\n",
       "      <th>quarterly_rating_inc</th>\n",
       "    </tr>\n",
       "  </thead>\n",
       "  <tbody>\n",
       "    <tr>\n",
       "      <th>0</th>\n",
       "      <td>1</td>\n",
       "      <td>2.0</td>\n",
       "      <td>2.0</td>\n",
       "      <td>0</td>\n",
       "    </tr>\n",
       "    <tr>\n",
       "      <th>1</th>\n",
       "      <td>2</td>\n",
       "      <td>1.0</td>\n",
       "      <td>1.0</td>\n",
       "      <td>0</td>\n",
       "    </tr>\n",
       "  </tbody>\n",
       "</table>\n",
       "</div>"
      ],
      "text/plain": [
       "   Driver_ID  Quarterly Rating_first  Quarterly Rating_last  \\\n",
       "0          1                     2.0                    2.0   \n",
       "1          2                     1.0                    1.0   \n",
       "\n",
       "   quarterly_rating_inc  \n",
       "0                     0  \n",
       "1                     0  "
      ]
     },
     "execution_count": 30,
     "metadata": {},
     "output_type": "execute_result"
    }
   ],
   "source": [
    "quarterly_rating_change.head(2)"
   ]
  },
  {
   "cell_type": "code",
   "execution_count": 31,
   "metadata": {},
   "outputs": [],
   "source": [
    "# add quarterly_rating_inc to df_driver \n",
    "\n",
    "df_driver = pd.merge(df_driver,quarterly_rating_change[[\"Driver_ID\",\"quarterly_rating_inc\"]],how='inner',on='Driver_ID')"
   ]
  },
  {
   "cell_type": "code",
   "execution_count": 32,
   "metadata": {},
   "outputs": [],
   "source": [
    "# df_driver[\"quarterly_rating_inc_1\"] = quarterly_rating_change[\"quarterly_rating_inc\"].values\n",
    "# df_driver.drop([\"quarterly_rating_inc_1\"],axis=1,inplace=True)"
   ]
  },
  {
   "cell_type": "markdown",
   "metadata": {},
   "source": [
    "Target variable creation: Creating a column called last_working_date_target which tells whether the driver has left the company- driver whose last working day is present will have the value 1"
   ]
  },
  {
   "cell_type": "code",
   "execution_count": 33,
   "metadata": {},
   "outputs": [],
   "source": [
    "# if last working date is not null then change the value to 1 else 0\n",
    "\n",
    "df_driver[\"last_working_date_target\"] = np.where(df_driver[\"LastWorkingDate\"].isnull(),0,1)"
   ]
  },
  {
   "cell_type": "code",
   "execution_count": 34,
   "metadata": {},
   "outputs": [],
   "source": [
    "#df_driver.drop([\"last_working_date_inc\"],axis=1,inplace=True)"
   ]
  },
  {
   "cell_type": "markdown",
   "metadata": {},
   "source": [
    "Creating a column which tells whether the monthly income has increased for that driver - for those whose monthly income has increased we assign the value 1"
   ]
  },
  {
   "cell_type": "code",
   "execution_count": 35,
   "metadata": {},
   "outputs": [],
   "source": [
    "# monthly income increase \n",
    "\n",
    "monthly_inc = df1.groupby('Driver_ID').aggregate({'Income':['first','last']}).reset_index()\n",
    "\n",
    "monthly_inc.columns = ['Driver_ID','Income_first','Income_last']\n",
    "monthly_inc[\"monthly_income_increase\"] = np.where(monthly_inc[\"Income_last\"] > monthly_inc[\"Income_first\"],1,0)\n",
    "df_driver[\"monthly_income_increase\"] = monthly_inc[\"monthly_income_increase\"].values"
   ]
  },
  {
   "cell_type": "code",
   "execution_count": 36,
   "metadata": {},
   "outputs": [
    {
     "data": {
      "text/html": [
       "<div>\n",
       "<style scoped>\n",
       "    .dataframe tbody tr th:only-of-type {\n",
       "        vertical-align: middle;\n",
       "    }\n",
       "\n",
       "    .dataframe tbody tr th {\n",
       "        vertical-align: top;\n",
       "    }\n",
       "\n",
       "    .dataframe thead th {\n",
       "        text-align: right;\n",
       "    }\n",
       "</style>\n",
       "<table border=\"1\" class=\"dataframe\">\n",
       "  <thead>\n",
       "    <tr style=\"text-align: right;\">\n",
       "      <th></th>\n",
       "      <th>Driver_ID</th>\n",
       "      <th>Age</th>\n",
       "      <th>Gender</th>\n",
       "      <th>City</th>\n",
       "      <th>Education_Level</th>\n",
       "      <th>Income</th>\n",
       "      <th>Dateofjoining</th>\n",
       "      <th>LastWorkingDate</th>\n",
       "      <th>Joining Designation</th>\n",
       "      <th>Grade</th>\n",
       "      <th>Total Business Value</th>\n",
       "      <th>Quarterly Rating</th>\n",
       "      <th>quarterly_rating_inc</th>\n",
       "      <th>last_working_date_target</th>\n",
       "      <th>monthly_income_increase</th>\n",
       "    </tr>\n",
       "  </thead>\n",
       "  <tbody>\n",
       "    <tr>\n",
       "      <th>0</th>\n",
       "      <td>1</td>\n",
       "      <td>28.0</td>\n",
       "      <td>0.0</td>\n",
       "      <td>C23</td>\n",
       "      <td>2.0</td>\n",
       "      <td>57387.0</td>\n",
       "      <td>2018-12-24</td>\n",
       "      <td>2019-03-11</td>\n",
       "      <td>1.0</td>\n",
       "      <td>1.0</td>\n",
       "      <td>1715580.0</td>\n",
       "      <td>2.0</td>\n",
       "      <td>0</td>\n",
       "      <td>1</td>\n",
       "      <td>0</td>\n",
       "    </tr>\n",
       "    <tr>\n",
       "      <th>1</th>\n",
       "      <td>2</td>\n",
       "      <td>31.0</td>\n",
       "      <td>0.0</td>\n",
       "      <td>C7</td>\n",
       "      <td>2.0</td>\n",
       "      <td>67016.0</td>\n",
       "      <td>2020-11-06</td>\n",
       "      <td>NaT</td>\n",
       "      <td>2.0</td>\n",
       "      <td>2.0</td>\n",
       "      <td>0.0</td>\n",
       "      <td>1.0</td>\n",
       "      <td>0</td>\n",
       "      <td>0</td>\n",
       "      <td>0</td>\n",
       "    </tr>\n",
       "    <tr>\n",
       "      <th>2</th>\n",
       "      <td>4</td>\n",
       "      <td>43.0</td>\n",
       "      <td>0.0</td>\n",
       "      <td>C13</td>\n",
       "      <td>2.0</td>\n",
       "      <td>65603.0</td>\n",
       "      <td>2019-12-07</td>\n",
       "      <td>2020-04-27</td>\n",
       "      <td>2.0</td>\n",
       "      <td>2.0</td>\n",
       "      <td>350000.0</td>\n",
       "      <td>1.0</td>\n",
       "      <td>0</td>\n",
       "      <td>1</td>\n",
       "      <td>0</td>\n",
       "    </tr>\n",
       "    <tr>\n",
       "      <th>3</th>\n",
       "      <td>5</td>\n",
       "      <td>29.0</td>\n",
       "      <td>0.0</td>\n",
       "      <td>C9</td>\n",
       "      <td>0.0</td>\n",
       "      <td>46368.0</td>\n",
       "      <td>2019-01-09</td>\n",
       "      <td>2019-03-07</td>\n",
       "      <td>1.0</td>\n",
       "      <td>1.0</td>\n",
       "      <td>120360.0</td>\n",
       "      <td>1.0</td>\n",
       "      <td>0</td>\n",
       "      <td>1</td>\n",
       "      <td>0</td>\n",
       "    </tr>\n",
       "    <tr>\n",
       "      <th>4</th>\n",
       "      <td>6</td>\n",
       "      <td>31.0</td>\n",
       "      <td>1.0</td>\n",
       "      <td>C11</td>\n",
       "      <td>1.0</td>\n",
       "      <td>78728.0</td>\n",
       "      <td>2020-07-31</td>\n",
       "      <td>NaT</td>\n",
       "      <td>3.0</td>\n",
       "      <td>3.0</td>\n",
       "      <td>1265000.0</td>\n",
       "      <td>2.0</td>\n",
       "      <td>1</td>\n",
       "      <td>0</td>\n",
       "      <td>0</td>\n",
       "    </tr>\n",
       "  </tbody>\n",
       "</table>\n",
       "</div>"
      ],
      "text/plain": [
       "   Driver_ID   Age  Gender City  Education_Level   Income Dateofjoining  \\\n",
       "0          1  28.0     0.0  C23              2.0  57387.0    2018-12-24   \n",
       "1          2  31.0     0.0   C7              2.0  67016.0    2020-11-06   \n",
       "2          4  43.0     0.0  C13              2.0  65603.0    2019-12-07   \n",
       "3          5  29.0     0.0   C9              0.0  46368.0    2019-01-09   \n",
       "4          6  31.0     1.0  C11              1.0  78728.0    2020-07-31   \n",
       "\n",
       "  LastWorkingDate  Joining Designation  Grade  Total Business Value  \\\n",
       "0      2019-03-11                  1.0    1.0             1715580.0   \n",
       "1             NaT                  2.0    2.0                   0.0   \n",
       "2      2020-04-27                  2.0    2.0              350000.0   \n",
       "3      2019-03-07                  1.0    1.0              120360.0   \n",
       "4             NaT                  3.0    3.0             1265000.0   \n",
       "\n",
       "   Quarterly Rating  quarterly_rating_inc  last_working_date_target  \\\n",
       "0               2.0                     0                         1   \n",
       "1               1.0                     0                         0   \n",
       "2               1.0                     0                         1   \n",
       "3               1.0                     0                         1   \n",
       "4               2.0                     1                         0   \n",
       "\n",
       "   monthly_income_increase  \n",
       "0                        0  \n",
       "1                        0  \n",
       "2                        0  \n",
       "3                        0  \n",
       "4                        0  "
      ]
     },
     "execution_count": 36,
     "metadata": {},
     "output_type": "execute_result"
    }
   ],
   "source": [
    "df_driver.head(5)"
   ]
  },
  {
   "cell_type": "markdown",
   "metadata": {},
   "source": [
    "Why are calculating quarterly rating change and monthly income increase ? \n",
    "\n",
    "Because in real world driver rating directly affects the income and bonuses received. If the rating hasn't improved then the income will not increase. \n",
    "So, if the income hasn't increased then drivers potentially will be leaving the company.\n",
    "\n",
    "So we need to calculate the change in rating and monthly income."
   ]
  },
  {
   "cell_type": "code",
   "execution_count": 37,
   "metadata": {},
   "outputs": [
    {
     "name": "stdout",
     "output_type": "stream",
     "text": [
      "<class 'pandas.core.frame.DataFrame'>\n",
      "Int64Index: 2381 entries, 0 to 2380\n",
      "Data columns (total 15 columns):\n",
      " #   Column                    Non-Null Count  Dtype         \n",
      "---  ------                    --------------  -----         \n",
      " 0   Driver_ID                 2381 non-null   int64         \n",
      " 1   Age                       2381 non-null   float64       \n",
      " 2   Gender                    2381 non-null   float64       \n",
      " 3   City                      2381 non-null   object        \n",
      " 4   Education_Level           2381 non-null   float64       \n",
      " 5   Income                    2381 non-null   float64       \n",
      " 6   Dateofjoining             2381 non-null   datetime64[ns]\n",
      " 7   LastWorkingDate           1616 non-null   datetime64[ns]\n",
      " 8   Joining Designation       2381 non-null   float64       \n",
      " 9   Grade                     2381 non-null   float64       \n",
      " 10  Total Business Value      2381 non-null   float64       \n",
      " 11  Quarterly Rating          2381 non-null   float64       \n",
      " 12  quarterly_rating_inc      2381 non-null   int32         \n",
      " 13  last_working_date_target  2381 non-null   int32         \n",
      " 14  monthly_income_increase   2381 non-null   int32         \n",
      "dtypes: datetime64[ns](2), float64(8), int32(3), int64(1), object(1)\n",
      "memory usage: 269.7+ KB\n"
     ]
    }
   ],
   "source": [
    "df_driver.info()"
   ]
  },
  {
   "cell_type": "code",
   "execution_count": 38,
   "metadata": {},
   "outputs": [],
   "source": [
    "df_driver.drop([\"LastWorkingDate\"],axis=1,inplace=True)"
   ]
  },
  {
   "cell_type": "code",
   "execution_count": 39,
   "metadata": {},
   "outputs": [
    {
     "data": {
      "text/html": [
       "<div>\n",
       "<style scoped>\n",
       "    .dataframe tbody tr th:only-of-type {\n",
       "        vertical-align: middle;\n",
       "    }\n",
       "\n",
       "    .dataframe tbody tr th {\n",
       "        vertical-align: top;\n",
       "    }\n",
       "\n",
       "    .dataframe thead th {\n",
       "        text-align: right;\n",
       "    }\n",
       "</style>\n",
       "<table border=\"1\" class=\"dataframe\">\n",
       "  <thead>\n",
       "    <tr style=\"text-align: right;\">\n",
       "      <th></th>\n",
       "      <th>count</th>\n",
       "      <th>mean</th>\n",
       "      <th>std</th>\n",
       "      <th>min</th>\n",
       "      <th>25%</th>\n",
       "      <th>50%</th>\n",
       "      <th>75%</th>\n",
       "      <th>max</th>\n",
       "    </tr>\n",
       "  </thead>\n",
       "  <tbody>\n",
       "    <tr>\n",
       "      <th>Driver_ID</th>\n",
       "      <td>2381.0</td>\n",
       "      <td>1.397559e+03</td>\n",
       "      <td>8.061616e+02</td>\n",
       "      <td>1.0</td>\n",
       "      <td>695.0</td>\n",
       "      <td>1400.0</td>\n",
       "      <td>2100.0</td>\n",
       "      <td>2788.0</td>\n",
       "    </tr>\n",
       "    <tr>\n",
       "      <th>Age</th>\n",
       "      <td>2381.0</td>\n",
       "      <td>3.377018e+01</td>\n",
       "      <td>5.933265e+00</td>\n",
       "      <td>21.0</td>\n",
       "      <td>30.0</td>\n",
       "      <td>33.0</td>\n",
       "      <td>37.0</td>\n",
       "      <td>58.0</td>\n",
       "    </tr>\n",
       "    <tr>\n",
       "      <th>Gender</th>\n",
       "      <td>2381.0</td>\n",
       "      <td>4.105838e-01</td>\n",
       "      <td>4.914963e-01</td>\n",
       "      <td>0.0</td>\n",
       "      <td>0.0</td>\n",
       "      <td>0.0</td>\n",
       "      <td>1.0</td>\n",
       "      <td>1.0</td>\n",
       "    </tr>\n",
       "    <tr>\n",
       "      <th>Education_Level</th>\n",
       "      <td>2381.0</td>\n",
       "      <td>1.007560e+00</td>\n",
       "      <td>8.162900e-01</td>\n",
       "      <td>0.0</td>\n",
       "      <td>0.0</td>\n",
       "      <td>1.0</td>\n",
       "      <td>2.0</td>\n",
       "      <td>2.0</td>\n",
       "    </tr>\n",
       "    <tr>\n",
       "      <th>Income</th>\n",
       "      <td>2381.0</td>\n",
       "      <td>5.933416e+04</td>\n",
       "      <td>2.838367e+04</td>\n",
       "      <td>10747.0</td>\n",
       "      <td>39104.0</td>\n",
       "      <td>55315.0</td>\n",
       "      <td>75986.0</td>\n",
       "      <td>188418.0</td>\n",
       "    </tr>\n",
       "    <tr>\n",
       "      <th>Joining Designation</th>\n",
       "      <td>2381.0</td>\n",
       "      <td>1.820244e+00</td>\n",
       "      <td>8.414334e-01</td>\n",
       "      <td>1.0</td>\n",
       "      <td>1.0</td>\n",
       "      <td>2.0</td>\n",
       "      <td>2.0</td>\n",
       "      <td>5.0</td>\n",
       "    </tr>\n",
       "    <tr>\n",
       "      <th>Grade</th>\n",
       "      <td>2381.0</td>\n",
       "      <td>2.096598e+00</td>\n",
       "      <td>9.415218e-01</td>\n",
       "      <td>1.0</td>\n",
       "      <td>1.0</td>\n",
       "      <td>2.0</td>\n",
       "      <td>3.0</td>\n",
       "      <td>5.0</td>\n",
       "    </tr>\n",
       "    <tr>\n",
       "      <th>Total Business Value</th>\n",
       "      <td>2381.0</td>\n",
       "      <td>4.586742e+06</td>\n",
       "      <td>9.127115e+06</td>\n",
       "      <td>-1385530.0</td>\n",
       "      <td>0.0</td>\n",
       "      <td>817680.0</td>\n",
       "      <td>4173650.0</td>\n",
       "      <td>95331060.0</td>\n",
       "    </tr>\n",
       "    <tr>\n",
       "      <th>Quarterly Rating</th>\n",
       "      <td>2381.0</td>\n",
       "      <td>1.427971e+00</td>\n",
       "      <td>8.098389e-01</td>\n",
       "      <td>1.0</td>\n",
       "      <td>1.0</td>\n",
       "      <td>1.0</td>\n",
       "      <td>2.0</td>\n",
       "      <td>4.0</td>\n",
       "    </tr>\n",
       "    <tr>\n",
       "      <th>quarterly_rating_inc</th>\n",
       "      <td>2381.0</td>\n",
       "      <td>1.503570e-01</td>\n",
       "      <td>3.574961e-01</td>\n",
       "      <td>0.0</td>\n",
       "      <td>0.0</td>\n",
       "      <td>0.0</td>\n",
       "      <td>0.0</td>\n",
       "      <td>1.0</td>\n",
       "    </tr>\n",
       "    <tr>\n",
       "      <th>last_working_date_target</th>\n",
       "      <td>2381.0</td>\n",
       "      <td>6.787064e-01</td>\n",
       "      <td>4.670713e-01</td>\n",
       "      <td>0.0</td>\n",
       "      <td>0.0</td>\n",
       "      <td>1.0</td>\n",
       "      <td>1.0</td>\n",
       "      <td>1.0</td>\n",
       "    </tr>\n",
       "    <tr>\n",
       "      <th>monthly_income_increase</th>\n",
       "      <td>2381.0</td>\n",
       "      <td>1.805964e-02</td>\n",
       "      <td>1.331951e-01</td>\n",
       "      <td>0.0</td>\n",
       "      <td>0.0</td>\n",
       "      <td>0.0</td>\n",
       "      <td>0.0</td>\n",
       "      <td>1.0</td>\n",
       "    </tr>\n",
       "  </tbody>\n",
       "</table>\n",
       "</div>"
      ],
      "text/plain": [
       "                           count          mean           std        min  \\\n",
       "Driver_ID                 2381.0  1.397559e+03  8.061616e+02        1.0   \n",
       "Age                       2381.0  3.377018e+01  5.933265e+00       21.0   \n",
       "Gender                    2381.0  4.105838e-01  4.914963e-01        0.0   \n",
       "Education_Level           2381.0  1.007560e+00  8.162900e-01        0.0   \n",
       "Income                    2381.0  5.933416e+04  2.838367e+04    10747.0   \n",
       "Joining Designation       2381.0  1.820244e+00  8.414334e-01        1.0   \n",
       "Grade                     2381.0  2.096598e+00  9.415218e-01        1.0   \n",
       "Total Business Value      2381.0  4.586742e+06  9.127115e+06 -1385530.0   \n",
       "Quarterly Rating          2381.0  1.427971e+00  8.098389e-01        1.0   \n",
       "quarterly_rating_inc      2381.0  1.503570e-01  3.574961e-01        0.0   \n",
       "last_working_date_target  2381.0  6.787064e-01  4.670713e-01        0.0   \n",
       "monthly_income_increase   2381.0  1.805964e-02  1.331951e-01        0.0   \n",
       "\n",
       "                              25%       50%        75%         max  \n",
       "Driver_ID                   695.0    1400.0     2100.0      2788.0  \n",
       "Age                          30.0      33.0       37.0        58.0  \n",
       "Gender                        0.0       0.0        1.0         1.0  \n",
       "Education_Level               0.0       1.0        2.0         2.0  \n",
       "Income                    39104.0   55315.0    75986.0    188418.0  \n",
       "Joining Designation           1.0       2.0        2.0         5.0  \n",
       "Grade                         1.0       2.0        3.0         5.0  \n",
       "Total Business Value          0.0  817680.0  4173650.0  95331060.0  \n",
       "Quarterly Rating              1.0       1.0        2.0         4.0  \n",
       "quarterly_rating_inc          0.0       0.0        0.0         1.0  \n",
       "last_working_date_target      0.0       1.0        1.0         1.0  \n",
       "monthly_income_increase       0.0       0.0        0.0         1.0  "
      ]
     },
     "execution_count": 39,
     "metadata": {},
     "output_type": "execute_result"
    }
   ],
   "source": [
    "df_driver.describe().T"
   ]
  },
  {
   "cell_type": "markdown",
   "metadata": {},
   "source": [
    "There are 2381 employees in the dataset. The minimum age of the employee in the data is 21 years and the maximum age is 58 years. 75% of the employees have their monthly income less than or equal to 75,986 units / rupees. 50% of the employees have acquired 8,17,680 as the their total business value."
   ]
  },
  {
   "cell_type": "code",
   "execution_count": 40,
   "metadata": {},
   "outputs": [
    {
     "data": {
      "text/plain": [
       "29"
      ]
     },
     "execution_count": 40,
     "metadata": {},
     "output_type": "execute_result"
    }
   ],
   "source": [
    "df_driver[\"City\"].nunique()"
   ]
  },
  {
   "cell_type": "code",
   "execution_count": 41,
   "metadata": {},
   "outputs": [
    {
     "data": {
      "text/plain": [
       "2.0    802\n",
       "1.0    795\n",
       "0.0    784\n",
       "Name: Education_Level, dtype: int64"
      ]
     },
     "execution_count": 41,
     "metadata": {},
     "output_type": "execute_result"
    }
   ],
   "source": [
    "df_driver[\"Education_Level\"].value_counts()"
   ]
  },
  {
   "cell_type": "code",
   "execution_count": 42,
   "metadata": {},
   "outputs": [
    {
     "data": {
      "text/plain": [
       "0.0    0.587988\n",
       "1.0    0.409492\n",
       "0.6    0.001260\n",
       "0.2    0.000840\n",
       "0.4    0.000420\n",
       "Name: Gender, dtype: float64"
      ]
     },
     "execution_count": 42,
     "metadata": {},
     "output_type": "execute_result"
    }
   ],
   "source": [
    "df_driver[\"Gender\"].value_counts(normalize=True)"
   ]
  },
  {
   "cell_type": "markdown",
   "metadata": {},
   "source": [
    "More than 58% of the employees are male and 41 % are female."
   ]
  },
  {
   "cell_type": "code",
   "execution_count": 43,
   "metadata": {},
   "outputs": [
    {
     "data": {
      "text/plain": [
       "Index(['Driver_ID', 'Age', 'Gender', 'City', 'Education_Level', 'Income',\n",
       "       'Dateofjoining', 'Joining Designation', 'Grade', 'Total Business Value',\n",
       "       'Quarterly Rating', 'quarterly_rating_inc', 'last_working_date_target',\n",
       "       'monthly_income_increase'],\n",
       "      dtype='object')"
      ]
     },
     "execution_count": 43,
     "metadata": {},
     "output_type": "execute_result"
    }
   ],
   "source": [
    "df_driver.columns"
   ]
  },
  {
   "cell_type": "code",
   "execution_count": 44,
   "metadata": {},
   "outputs": [
    {
     "data": {
      "text/plain": [
       "0    0.849643\n",
       "1    0.150357\n",
       "Name: quarterly_rating_inc, dtype: float64"
      ]
     },
     "execution_count": 44,
     "metadata": {},
     "output_type": "execute_result"
    }
   ],
   "source": [
    "df_driver[\"quarterly_rating_inc\"].value_counts(normalize=True)"
   ]
  },
  {
   "cell_type": "code",
   "execution_count": 45,
   "metadata": {},
   "outputs": [
    {
     "data": {
      "text/plain": [
       "1    0.678706\n",
       "0    0.321294\n",
       "Name: last_working_date_target, dtype: float64"
      ]
     },
     "execution_count": 45,
     "metadata": {},
     "output_type": "execute_result"
    }
   ],
   "source": [
    "df_driver[\"last_working_date_target\"].value_counts(normalize=True)"
   ]
  },
  {
   "cell_type": "markdown",
   "metadata": {},
   "source": [
    "close to 68 % of the employees have left the company."
   ]
  },
  {
   "cell_type": "code",
   "execution_count": 46,
   "metadata": {},
   "outputs": [
    {
     "data": {
      "image/png": "[encoded data removed]",
      "text/plain": [
       "<Figure size 1500x1000 with 6 Axes>"
      ]
     },
     "metadata": {},
     "output_type": "display_data"
    }
   ],
   "source": [
    "n = ['Gender','Education_Level','Joining Designation','Grade',\"Quarterly Rating\"]\n",
    "\n",
    "fig, axes = plt.subplots(nrows=2, ncols=3, figsize=(15, 10))\n",
    "\n",
    "for i, var in enumerate(n):\n",
    "    ax = axes[i // 3, i % 3]\n",
    "    sns.countplot(x=var, data=df, ax=ax)\n",
    "\n",
    "plt.tight_layout()\n",
    "plt.show()"
   ]
  },
  {
   "cell_type": "code",
   "execution_count": 47,
   "metadata": {},
   "outputs": [],
   "source": [
    "df_driver[\"quarterly_rating_inc\"] = df_driver[\"quarterly_rating_inc\"].astype(\"int64\")"
   ]
  },
  {
   "cell_type": "code",
   "execution_count": 48,
   "metadata": {},
   "outputs": [
    {
     "data": {
      "text/plain": [
       "Index(['Driver_ID', 'Age', 'Gender', 'City', 'Education_Level', 'Income',\n",
       "       'Dateofjoining', 'Joining Designation', 'Grade', 'Total Business Value',\n",
       "       'Quarterly Rating', 'quarterly_rating_inc', 'last_working_date_target',\n",
       "       'monthly_income_increase'],\n",
       "      dtype='object')"
      ]
     },
     "execution_count": 48,
     "metadata": {},
     "output_type": "execute_result"
    }
   ],
   "source": [
    "df_driver.columns"
   ]
  },
  {
   "cell_type": "code",
   "execution_count": 49,
   "metadata": {},
   "outputs": [
    {
     "data": {
      "text/plain": [
       "0    2023\n",
       "1     358\n",
       "Name: quarterly_rating_inc, dtype: int64"
      ]
     },
     "execution_count": 49,
     "metadata": {},
     "output_type": "execute_result"
    }
   ],
   "source": [
    "df_driver[\"quarterly_rating_inc\"].value_counts()"
   ]
  },
  {
   "cell_type": "code",
   "execution_count": 50,
   "metadata": {},
   "outputs": [
    {
     "data": {
      "text/plain": [
       "<AxesSubplot: >"
      ]
     },
     "execution_count": 50,
     "metadata": {},
     "output_type": "execute_result"
    },
    {
     "data": {
      "image/png": "[encoded data removed]",
      "text/plain": [
       "<Figure size 800x400 with 1 Axes>"
      ]
     },
     "metadata": {},
     "output_type": "display_data"
    }
   ],
   "source": [
    "df_driver[\"quarterly_rating_inc\"].value_counts().plot(kind=\"bar\",figsize=(8,4))\n"
   ]
  },
  {
   "cell_type": "markdown",
   "metadata": {},
   "source": [
    "out of 2381 employees, only 358 employees have increased quarterly rating , improved quarterly rating improves monthly income and only 43 employees has their monthly income increased compared to their first  month."
   ]
  },
  {
   "cell_type": "code",
   "execution_count": 51,
   "metadata": {},
   "outputs": [
    {
     "data": {
      "text/plain": [
       "1.0    1026\n",
       "2.0     815\n",
       "3.0     493\n",
       "4.0      36\n",
       "5.0      11\n",
       "Name: Joining Designation, dtype: int64"
      ]
     },
     "execution_count": 51,
     "metadata": {},
     "output_type": "execute_result"
    }
   ],
   "source": [
    "df_driver[\"Joining Designation\"].value_counts()"
   ]
  },
  {
   "cell_type": "code",
   "execution_count": 52,
   "metadata": {},
   "outputs": [
    {
     "data": {
      "text/plain": [
       "2.0    855\n",
       "1.0    741\n",
       "3.0    623\n",
       "4.0    138\n",
       "5.0     24\n",
       "Name: Grade, dtype: int64"
      ]
     },
     "execution_count": 52,
     "metadata": {},
     "output_type": "execute_result"
    }
   ],
   "source": [
    "df_driver[\"Grade\"].value_counts()"
   ]
  },
  {
   "cell_type": "code",
   "execution_count": 53,
   "metadata": {},
   "outputs": [
    {
     "data": {
      "image/png": "[encoded data removed]",
      "text/plain": [
       "<Figure size 500x500 with 1 Axes>"
      ]
     },
     "metadata": {},
     "output_type": "display_data"
    },
    {
     "data": {
      "image/png": "[encoded data removed]",
      "text/plain": [
       "<Figure size 640x480 with 1 Axes>"
      ]
     },
     "metadata": {},
     "output_type": "display_data"
    }
   ],
   "source": [
    "sns.displot(df_driver[\"Income\"],bins=15,kde=True)\n",
    "plt.show()\n",
    "sns.boxplot(df_driver[\"Income\"])\n",
    "plt.show()"
   ]
  },
  {
   "cell_type": "markdown",
   "metadata": {},
   "source": [
    "Most of the employees are between the age of 30 to 35\n",
    "and the median income is 50000 rupees."
   ]
  },
  {
   "cell_type": "markdown",
   "metadata": {},
   "source": [
    "Demographics:\n",
    "\n",
    "Gender: 1400 male, 975 female.\n",
    "Cities: 152 from C20, 101 from C15 [top-cities]\n",
    "\n",
    "Education: 802 graduate, 795 with 12th grade.\n",
    "\n",
    "Joining Designation: 1026 has a designation of  1, 815 joined at 2.\n",
    "\n",
    "Grade : 855 had grade 2 at reporting time.\n",
    "\n",
    "Performance: 1744 had a last quarterly rating of 1.\n",
    "\n",
    "Quarterly rating: 2023 employees did not have quarterly rating inprovement in the last quarter.\n"
   ]
  },
  {
   "cell_type": "code",
   "execution_count": 54,
   "metadata": {},
   "outputs": [
    {
     "data": {
      "text/plain": [
       "Index(['Driver_ID', 'Age', 'Gender', 'City', 'Education_Level', 'Income',\n",
       "       'Dateofjoining', 'Joining Designation', 'Grade', 'Total Business Value',\n",
       "       'Quarterly Rating', 'quarterly_rating_inc', 'last_working_date_target',\n",
       "       'monthly_income_increase'],\n",
       "      dtype='object')"
      ]
     },
     "execution_count": 54,
     "metadata": {},
     "output_type": "execute_result"
    }
   ],
   "source": [
    "df_driver.columns"
   ]
  },
  {
   "cell_type": "markdown",
   "metadata": {},
   "source": [
    "Let's check the affect of different valriable on target variable :"
   ]
  },
  {
   "cell_type": "code",
   "execution_count": 55,
   "metadata": {},
   "outputs": [
    {
     "data": {
      "image/png": "[encoded data removed]",
      "text/plain": [
       "<Figure size 1500x1000 with 6 Axes>"
      ]
     },
     "metadata": {},
     "output_type": "display_data"
    }
   ],
   "source": [
    "# 'Gender', 'Education_Level',\n",
    "#         'Joining Designation', 'Grade', \n",
    "#        'Quarterly Rating', 'quarterly_rating_inc',\n",
    "#        'monthly_income_increase'\n",
    "\n",
    "#  hue = 'last_working_date_target' \n",
    "\n",
    "n = ['Gender','Education_Level','Joining Designation','Grade',\"quarterly_rating_inc\",\"monthly_income_increase\"]\n",
    "\n",
    "fig, axes = plt.subplots(nrows=2, ncols=3, figsize=(15, 10))\n",
    "\n",
    "for i, var in enumerate(n):\n",
    "    ax = axes[i // 3, i % 3]\n",
    "    sns.countplot(x=var, hue=\"last_working_date_target\", data=df_driver, ax=ax)\n",
    "\n",
    "plt.tight_layout()\n",
    "plt.show()\n"
   ]
  },
  {
   "cell_type": "markdown",
   "metadata": {},
   "source": [
    "- The proportion education is more or less the same for both the employees who left the organization and those who did not leave.\n",
    "\n",
    "- The employees who have their grade as 3 or 4 at the time of joining are less likely to leave the organization.\n",
    "\n",
    "- The employees who have their grade as 3 , 4 ,5 at the time of reporting are less likely to leave the organization.\n",
    "\n",
    "- The employees whose quarterly rating has increased are less likely to leave the organization and the same applies to monthly income increase."
   ]
  },
  {
   "cell_type": "code",
   "execution_count": 56,
   "metadata": {},
   "outputs": [
    {
     "data": {
      "text/plain": [
       "Index(['Driver_ID', 'Age', 'Gender', 'City', 'Education_Level', 'Income',\n",
       "       'Dateofjoining', 'Joining Designation', 'Grade', 'Total Business Value',\n",
       "       'Quarterly Rating', 'quarterly_rating_inc', 'last_working_date_target',\n",
       "       'monthly_income_increase'],\n",
       "      dtype='object')"
      ]
     },
     "execution_count": 56,
     "metadata": {},
     "output_type": "execute_result"
    }
   ],
   "source": [
    "# We can bin the numerical columns and check them against the target\n",
    "df_driver.columns"
   ]
  },
  {
   "cell_type": "markdown",
   "metadata": {},
   "source": [
    "From the heatmap we could see that the income is directly proportional to grade and joining designation"
   ]
  },
  {
   "cell_type": "code",
   "execution_count": 57,
   "metadata": {},
   "outputs": [
    {
     "data": {
      "text/plain": [
       "<AxesSubplot: >"
      ]
     },
     "execution_count": 57,
     "metadata": {},
     "output_type": "execute_result"
    },
    {
     "data": {
      "image/png": "[encoded data removed]",
      "text/plain": [
       "<Figure size 640x480 with 2 Axes>"
      ]
     },
     "metadata": {},
     "output_type": "display_data"
    }
   ],
   "source": [
    "sns.heatmap(df_driver.corr().round(2),annot=True)"
   ]
  },
  {
   "cell_type": "markdown",
   "metadata": {},
   "source": [
    "Encoding :"
   ]
  },
  {
   "cell_type": "code",
   "execution_count": 58,
   "metadata": {},
   "outputs": [],
   "source": [
    "# Driver_ID and Dateofjoining are specifc to employee and they are not useful for determining the target\n",
    "df_driver.drop(columns=[\"Driver_ID\",\"Dateofjoining\"],inplace=True)\n",
    "\n"
   ]
  },
  {
   "cell_type": "markdown",
   "metadata": {},
   "source": [
    "city needs to be encoded , target is imbalanced , and the data needs to be scaled\n"
   ]
  },
  {
   "cell_type": "code",
   "execution_count": 59,
   "metadata": {},
   "outputs": [
    {
     "data": {
      "text/plain": [
       "29"
      ]
     },
     "execution_count": 59,
     "metadata": {},
     "output_type": "execute_result"
    }
   ],
   "source": [
    "df_driver[\"City\"].nunique()"
   ]
  },
  {
   "cell_type": "code",
   "execution_count": 60,
   "metadata": {},
   "outputs": [],
   "source": [
    "# OHE the city column \n",
    "\n",
    "df_driver = pd.get_dummies(df_driver,columns=[\"City\"],drop_first=True)\n"
   ]
  },
  {
   "cell_type": "code",
   "execution_count": 61,
   "metadata": {},
   "outputs": [
    {
     "data": {
      "text/plain": [
       "Index(['Age', 'Gender', 'Education_Level', 'Income', 'Joining Designation',\n",
       "       'Grade', 'Total Business Value', 'Quarterly Rating',\n",
       "       'quarterly_rating_inc', 'last_working_date_target',\n",
       "       'monthly_income_increase', 'City_C10', 'City_C11', 'City_C12',\n",
       "       'City_C13', 'City_C14', 'City_C15', 'City_C16', 'City_C17', 'City_C18',\n",
       "       'City_C19', 'City_C2', 'City_C20', 'City_C21', 'City_C22', 'City_C23',\n",
       "       'City_C24', 'City_C25', 'City_C26', 'City_C27', 'City_C28', 'City_C29',\n",
       "       'City_C3', 'City_C4', 'City_C5', 'City_C6', 'City_C7', 'City_C8',\n",
       "       'City_C9'],\n",
       "      dtype='object')"
      ]
     },
     "execution_count": 61,
     "metadata": {},
     "output_type": "execute_result"
    }
   ],
   "source": [
    "df_driver.columns"
   ]
  },
  {
   "cell_type": "code",
   "execution_count": 62,
   "metadata": {},
   "outputs": [],
   "source": [
    "from sklearn.preprocessing import StandardScaler\n",
    "from sklearn.model_selection import train_test_split\n",
    "from sklearn.ensemble import RandomForestClassifier\n",
    "from xgboost import XGBClassifier\n",
    "from sklearn.metrics import classification_report"
   ]
  },
  {
   "cell_type": "code",
   "execution_count": 63,
   "metadata": {},
   "outputs": [],
   "source": [
    "x = df_driver.drop(\"last_working_date_target\",axis=1)\n",
    "y = df_driver[\"last_working_date_target\"]   \n",
    "# train-test split\n",
    "x_train,x_test,y_train,y_test = train_test_split(x,y,test_size=0.2,random_state=1)"
   ]
  },
  {
   "cell_type": "code",
   "execution_count": 64,
   "metadata": {},
   "outputs": [
    {
     "name": "stdout",
     "output_type": "stream",
     "text": [
      "(1904, 38)\n",
      "(1904,)\n",
      "(477, 38)\n",
      "(477,)\n"
     ]
    }
   ],
   "source": [
    "# print the shapes \n",
    "print(x_train.shape)\n",
    "print(y_train.shape)\n",
    "print(x_test.shape)\n",
    "print(y_test.shape)"
   ]
  },
  {
   "cell_type": "code",
   "execution_count": 65,
   "metadata": {},
   "outputs": [],
   "source": [
    "# scaling the data \n",
    "sc = StandardScaler()\n",
    "x_train = sc.fit_transform(x_train)\n",
    "x_test = sc.transform(x_test)"
   ]
  },
  {
   "cell_type": "code",
   "execution_count": 66,
   "metadata": {},
   "outputs": [],
   "source": [
    "x_train = pd.DataFrame(x_train,columns=x.columns)\n",
    "x_test = pd.DataFrame(x_test,columns=x.columns)"
   ]
  },
  {
   "cell_type": "code",
   "execution_count": 67,
   "metadata": {},
   "outputs": [
    {
     "data": {
      "text/plain": [
       "1    1287\n",
       "0     617\n",
       "Name: last_working_date_target, dtype: int64"
      ]
     },
     "execution_count": 67,
     "metadata": {},
     "output_type": "execute_result"
    }
   ],
   "source": [
    "y_train.value_counts() \n",
    "# class imbalance "
   ]
  },
  {
   "cell_type": "markdown",
   "metadata": {},
   "source": [
    "### Try it with Tree based models :"
   ]
  },
  {
   "cell_type": "markdown",
   "metadata": {},
   "source": [
    "Random Forest Classifier with different class weight methods with grid search :"
   ]
  },
  {
   "cell_type": "code",
   "execution_count": 68,
   "metadata": {},
   "outputs": [],
   "source": [
    "# class weights \n",
    "from sklearn.utils import class_weight"
   ]
  },
  {
   "cell_type": "code",
   "execution_count": 70,
   "metadata": {},
   "outputs": [
    {
     "name": "stdout",
     "output_type": "stream",
     "text": [
      "Best parameters  : {'max_depth': 4, 'n_estimators': 150}\n",
      "Best score :  0.8561585103901477\n"
     ]
    }
   ],
   "source": [
    "rf_clf = RandomForestClassifier(class_weight=\"balanced\") \n",
    "# grid search for hyperparameter tuning \n",
    "param = {'max_depth':[2,3,4,5,6], 'n_estimators':[50,100,150,200]}\n",
    "\n",
    "from sklearn.model_selection import GridSearchCV\n",
    "\n",
    "grid = GridSearchCV(rf_clf,param,cv=5,scoring=\"f1\",n_jobs=-1)\n",
    "grid.fit(x_train,y_train)\n",
    "\n",
    "print( \"Best parameters  :\", grid.best_params_)  \n",
    "\n",
    "print(\"Best score : \", grid.best_score_) # f_1 score\n"
   ]
  },
  {
   "cell_type": "code",
   "execution_count": 71,
   "metadata": {},
   "outputs": [
    {
     "name": "stdout",
     "output_type": "stream",
     "text": [
      "              precision    recall  f1-score   support\n",
      "\n",
      "           0       0.68      0.64      0.66       148\n",
      "           1       0.84      0.86      0.85       329\n",
      "\n",
      "    accuracy                           0.79       477\n",
      "   macro avg       0.76      0.75      0.76       477\n",
      "weighted avg       0.79      0.79      0.79       477\n",
      "\n",
      "[[ 95  53]\n",
      " [ 45 284]]\n"
     ]
    },
    {
     "data": {
      "image/png": "[encoded data removed]",
      "text/plain": [
       "<Figure size 640x480 with 2 Axes>"
      ]
     },
     "metadata": {},
     "output_type": "display_data"
    }
   ],
   "source": [
    "# classification report\n",
    "y_pred = grid.predict(x_test)\n",
    "print(classification_report(y_test,y_pred))\n",
    "# confusion matrix \n",
    "from sklearn.metrics import confusion_matrix\n",
    "cm = confusion_matrix(y_test,y_pred)\n",
    "print(cm)\n",
    "sns.heatmap(cm,annot=True)\n",
    "plt.show()\n"
   ]
  },
  {
   "cell_type": "code",
   "execution_count": 72,
   "metadata": {},
   "outputs": [
    {
     "name": "stdout",
     "output_type": "stream",
     "text": [
      "Best parameters  : {'max_depth': 5, 'n_estimators': 150}\n",
      "Best score :  0.85531044106477\n"
     ]
    }
   ],
   "source": [
    "# balanced_subsample\n",
    "\n",
    "rf_clf = RandomForestClassifier(class_weight=\"balanced_subsample\") \n",
    "# grid search for hyperparameter tuning \n",
    "param = {'max_depth':[2,3,4,5,6], 'n_estimators':[50,100,150,200]}\n",
    "\n",
    "from sklearn.model_selection import GridSearchCV\n",
    "\n",
    "grid = GridSearchCV(rf_clf,param,cv=5,scoring=\"f1\",n_jobs=-1)\n",
    "grid.fit(x_train,y_train)\n",
    "\n",
    "print( \"Best parameters  :\", grid.best_params_)  \n",
    "\n",
    "print(\"Best score : \", grid.best_score_) # f_1 score\n"
   ]
  },
  {
   "cell_type": "code",
   "execution_count": 73,
   "metadata": {},
   "outputs": [
    {
     "name": "stdout",
     "output_type": "stream",
     "text": [
      "              precision    recall  f1-score   support\n",
      "\n",
      "           0       0.71      0.64      0.67       148\n",
      "           1       0.85      0.88      0.86       329\n",
      "\n",
      "    accuracy                           0.81       477\n",
      "   macro avg       0.78      0.76      0.77       477\n",
      "weighted avg       0.80      0.81      0.80       477\n",
      "\n",
      "[[ 95  53]\n",
      " [ 39 290]]\n"
     ]
    },
    {
     "data": {
      "image/png": "[encoded data removed]",
      "text/plain": [
       "<Figure size 640x480 with 2 Axes>"
      ]
     },
     "metadata": {},
     "output_type": "display_data"
    }
   ],
   "source": [
    "y_pred = grid.predict(x_test)\n",
    "print(classification_report(y_test,y_pred))\n",
    "# confusion matrix \n",
    "from sklearn.metrics import confusion_matrix\n",
    "cm = confusion_matrix(y_test,y_pred)\n",
    "print(cm)\n",
    "sns.heatmap(cm,annot=True)\n",
    "plt.show()"
   ]
  },
  {
   "cell_type": "markdown",
   "metadata": {},
   "source": [
    "A slight improvements in precison and f1 score when a bootstrapped sample-weightage method is used."
   ]
  },
  {
   "cell_type": "markdown",
   "metadata": {},
   "source": [
    "SMOTE for balancing the train data :"
   ]
  },
  {
   "cell_type": "code",
   "execution_count": null,
   "metadata": {},
   "outputs": [],
   "source": [
    "#!pip install imblearn"
   ]
  },
  {
   "cell_type": "code",
   "execution_count": 77,
   "metadata": {},
   "outputs": [
    {
     "name": "stdout",
     "output_type": "stream",
     "text": [
      "before smote :  1    1287\n",
      "0     617\n",
      "Name: last_working_date_target, dtype: int64\n",
      "before smote :  (1904, 38)\n",
      "after smote :  1    1287\n",
      "0    1287\n",
      "Name: last_working_date_target, dtype: int64\n",
      "after smote :  (2574, 38)\n"
     ]
    }
   ],
   "source": [
    "# SMOTE \n",
    "\n",
    "print(\"before smote : \", y_train.value_counts())\n",
    "print(\"before smote : \", x_train.shape)\n",
    "\n",
    "from imblearn.over_sampling import SMOTE\n",
    "\n",
    "sm = SMOTE(random_state=1)\n",
    "\n",
    "x_train_smote,y_train_smote = sm.fit_resample(x_train,y_train)  \n",
    "\n",
    "\n",
    "print(\"after smote : \", y_train_smote.value_counts())\n",
    "print(\"after smote : \", x_train_smote.shape)\n"
   ]
  },
  {
   "cell_type": "markdown",
   "metadata": {},
   "source": [
    "Applying random forest with SMOTE :"
   ]
  },
  {
   "cell_type": "code",
   "execution_count": 78,
   "metadata": {},
   "outputs": [
    {
     "name": "stdout",
     "output_type": "stream",
     "text": [
      "Best parameters  : {'max_depth': 6, 'n_estimators': 150}\n",
      "Best score :  0.8216449082214726\n"
     ]
    }
   ],
   "source": [
    "rf_clf = RandomForestClassifier(class_weight=\"balanced\") \n",
    "# grid search for hyperparameter tuning \n",
    "param = {'max_depth':[2,3,4,5,6], 'n_estimators':[50,100,150,200]}\n",
    "\n",
    "from sklearn.model_selection import GridSearchCV\n",
    "\n",
    "grid = GridSearchCV(rf_clf,param,cv=5,scoring=\"f1\",n_jobs=-1)\n",
    "grid.fit(x_train_smote,y_train_smote)\n",
    "\n",
    "print( \"Best parameters  :\", grid.best_params_)  \n",
    "\n",
    "print(\"Best score : \", grid.best_score_) # f_1 score\n"
   ]
  },
  {
   "cell_type": "code",
   "execution_count": 80,
   "metadata": {},
   "outputs": [
    {
     "name": "stdout",
     "output_type": "stream",
     "text": [
      "              precision    recall  f1-score   support\n",
      "\n",
      "           0       0.72      0.63      0.67       148\n",
      "           1       0.84      0.89      0.86       329\n",
      "\n",
      "    accuracy                           0.81       477\n",
      "   macro avg       0.78      0.76      0.77       477\n",
      "weighted avg       0.80      0.81      0.80       477\n",
      "\n",
      "[[ 93  55]\n",
      " [ 37 292]]\n"
     ]
    },
    {
     "data": {
      "image/png": "[encoded data removed]",
      "text/plain": [
       "<Figure size 640x480 with 2 Axes>"
      ]
     },
     "metadata": {},
     "output_type": "display_data"
    }
   ],
   "source": [
    "# classification report\n",
    "y_pred = grid.predict(x_test)\n",
    "print(classification_report(y_test,y_pred))\n",
    "# confusion matrix \n",
    "from sklearn.metrics import confusion_matrix\n",
    "cm = confusion_matrix(y_test,y_pred)\n",
    "print(cm)\n",
    "plt.title(\"confusion matrix_smote\")\n",
    "sns.heatmap(cm,annot=True)\n",
    "plt.show()\n"
   ]
  },
  {
   "cell_type": "markdown",
   "metadata": {},
   "source": [
    "If we observe closely Smote didn't help much in this case , the metrics are on par with 'balanced_subsample'."
   ]
  },
  {
   "cell_type": "code",
   "execution_count": null,
   "metadata": {},
   "outputs": [],
   "source": [
    "# Xgboost \n",
    "xgb_clf = XGBClassifier()\n",
    "xgb_clf.fit(x_train,y_train)\n",
    "y_pred = xgb_clf.predict(x_test)\n",
    "print(classification_report(y_test,y_pred))"
   ]
  }
 ],
 "metadata": {
  "kernelspec": {
   "display_name": "Python 3",
   "language": "python",
   "name": "python3"
  },
  "language_info": {
   "codemirror_mode": {
    "name": "ipython",
    "version": 3
   },
   "file_extension": ".py",
   "mimetype": "text/x-python",
   "name": "python",
   "nbconvert_exporter": "python",
   "pygments_lexer": "ipython3",
   "version": "3.10.7"
  }
 },
 "nbformat": 4,
 "nbformat_minor": 2
}
